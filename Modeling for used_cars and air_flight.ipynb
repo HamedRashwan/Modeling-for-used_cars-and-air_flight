{
  "cells": [
    {
      "cell_type": "code",
      "execution_count": 31,
      "metadata": {
        "id": "ObHTMImm1FQr"
      },
      "outputs": [],
      "source": [
        "import pandas as pd\n",
        "import plotly.express as px\n",
        "from sklearn.model_selection import train_test_split\n",
        "from sklearn.preprocessing import StandardScaler,PolynomialFeatures\n",
        "from sklearn.linear_model import LinearRegression\n",
        "from sklearn.neighbors import KNeighborsRegressor\n",
        "from sklearn.svm import SVR\n",
        "\n",
        "from datasist.structdata import detect_outliers"
      ]
    },
    {
      "cell_type": "code",
      "execution_count": 32,
      "metadata": {
        "colab": {
          "base_uri": "https://localhost:8080/",
          "height": 773
        },
        "id": "cLEvqeAB1KPa",
        "outputId": "7b3967bc-b762-4408-c206-7966cd8d679a"
      },
      "outputs": [
        {
          "data": {
            "text/html": [
              "<div>\n",
              "<style scoped>\n",
              "    .dataframe tbody tr th:only-of-type {\n",
              "        vertical-align: middle;\n",
              "    }\n",
              "\n",
              "    .dataframe tbody tr th {\n",
              "        vertical-align: top;\n",
              "    }\n",
              "\n",
              "    .dataframe thead th {\n",
              "        text-align: right;\n",
              "    }\n",
              "</style>\n",
              "<table border=\"1\" class=\"dataframe\">\n",
              "  <thead>\n",
              "    <tr style=\"text-align: right;\">\n",
              "      <th></th>\n",
              "      <th>Name</th>\n",
              "      <th>Location</th>\n",
              "      <th>Year</th>\n",
              "      <th>Kilometers_Driven</th>\n",
              "      <th>Fuel_Type</th>\n",
              "      <th>Transmission</th>\n",
              "      <th>Owner_Type</th>\n",
              "      <th>Mileage</th>\n",
              "      <th>Engine</th>\n",
              "      <th>Power</th>\n",
              "      <th>Seats</th>\n",
              "      <th>New_Price</th>\n",
              "      <th>Price</th>\n",
              "    </tr>\n",
              "  </thead>\n",
              "  <tbody>\n",
              "    <tr>\n",
              "      <th>0</th>\n",
              "      <td>Maruti Wagon R LXI CNG</td>\n",
              "      <td>Mumbai</td>\n",
              "      <td>2010</td>\n",
              "      <td>72000</td>\n",
              "      <td>CNG</td>\n",
              "      <td>Manual</td>\n",
              "      <td>First</td>\n",
              "      <td>26.6 km/kg</td>\n",
              "      <td>998 CC</td>\n",
              "      <td>58.16 bhp</td>\n",
              "      <td>5.0</td>\n",
              "      <td>NaN</td>\n",
              "      <td>1.75</td>\n",
              "    </tr>\n",
              "    <tr>\n",
              "      <th>1</th>\n",
              "      <td>Hyundai Creta 1.6 CRDi SX Option</td>\n",
              "      <td>Pune</td>\n",
              "      <td>2015</td>\n",
              "      <td>41000</td>\n",
              "      <td>Diesel</td>\n",
              "      <td>Manual</td>\n",
              "      <td>First</td>\n",
              "      <td>19.67 kmpl</td>\n",
              "      <td>1582 CC</td>\n",
              "      <td>126.2 bhp</td>\n",
              "      <td>5.0</td>\n",
              "      <td>NaN</td>\n",
              "      <td>12.50</td>\n",
              "    </tr>\n",
              "    <tr>\n",
              "      <th>2</th>\n",
              "      <td>Honda Jazz V</td>\n",
              "      <td>Chennai</td>\n",
              "      <td>2011</td>\n",
              "      <td>46000</td>\n",
              "      <td>Petrol</td>\n",
              "      <td>Manual</td>\n",
              "      <td>First</td>\n",
              "      <td>18.2 kmpl</td>\n",
              "      <td>1199 CC</td>\n",
              "      <td>88.7 bhp</td>\n",
              "      <td>5.0</td>\n",
              "      <td>8.61 Lakh</td>\n",
              "      <td>4.50</td>\n",
              "    </tr>\n",
              "    <tr>\n",
              "      <th>3</th>\n",
              "      <td>Maruti Ertiga VDI</td>\n",
              "      <td>Chennai</td>\n",
              "      <td>2012</td>\n",
              "      <td>87000</td>\n",
              "      <td>Diesel</td>\n",
              "      <td>Manual</td>\n",
              "      <td>First</td>\n",
              "      <td>20.77 kmpl</td>\n",
              "      <td>1248 CC</td>\n",
              "      <td>88.76 bhp</td>\n",
              "      <td>7.0</td>\n",
              "      <td>NaN</td>\n",
              "      <td>6.00</td>\n",
              "    </tr>\n",
              "    <tr>\n",
              "      <th>4</th>\n",
              "      <td>Audi A4 New 2.0 TDI Multitronic</td>\n",
              "      <td>Coimbatore</td>\n",
              "      <td>2013</td>\n",
              "      <td>40670</td>\n",
              "      <td>Diesel</td>\n",
              "      <td>Automatic</td>\n",
              "      <td>Second</td>\n",
              "      <td>15.2 kmpl</td>\n",
              "      <td>1968 CC</td>\n",
              "      <td>140.8 bhp</td>\n",
              "      <td>5.0</td>\n",
              "      <td>NaN</td>\n",
              "      <td>17.74</td>\n",
              "    </tr>\n",
              "    <tr>\n",
              "      <th>...</th>\n",
              "      <td>...</td>\n",
              "      <td>...</td>\n",
              "      <td>...</td>\n",
              "      <td>...</td>\n",
              "      <td>...</td>\n",
              "      <td>...</td>\n",
              "      <td>...</td>\n",
              "      <td>...</td>\n",
              "      <td>...</td>\n",
              "      <td>...</td>\n",
              "      <td>...</td>\n",
              "      <td>...</td>\n",
              "      <td>...</td>\n",
              "    </tr>\n",
              "    <tr>\n",
              "      <th>6014</th>\n",
              "      <td>Maruti Swift VDI</td>\n",
              "      <td>Delhi</td>\n",
              "      <td>2014</td>\n",
              "      <td>27365</td>\n",
              "      <td>Diesel</td>\n",
              "      <td>Manual</td>\n",
              "      <td>First</td>\n",
              "      <td>28.4 kmpl</td>\n",
              "      <td>1248 CC</td>\n",
              "      <td>74 bhp</td>\n",
              "      <td>5.0</td>\n",
              "      <td>7.88 Lakh</td>\n",
              "      <td>4.75</td>\n",
              "    </tr>\n",
              "    <tr>\n",
              "      <th>6015</th>\n",
              "      <td>Hyundai Xcent 1.1 CRDi S</td>\n",
              "      <td>Jaipur</td>\n",
              "      <td>2015</td>\n",
              "      <td>100000</td>\n",
              "      <td>Diesel</td>\n",
              "      <td>Manual</td>\n",
              "      <td>First</td>\n",
              "      <td>24.4 kmpl</td>\n",
              "      <td>1120 CC</td>\n",
              "      <td>71 bhp</td>\n",
              "      <td>5.0</td>\n",
              "      <td>NaN</td>\n",
              "      <td>4.00</td>\n",
              "    </tr>\n",
              "    <tr>\n",
              "      <th>6016</th>\n",
              "      <td>Mahindra Xylo D4 BSIV</td>\n",
              "      <td>Jaipur</td>\n",
              "      <td>2012</td>\n",
              "      <td>55000</td>\n",
              "      <td>Diesel</td>\n",
              "      <td>Manual</td>\n",
              "      <td>Second</td>\n",
              "      <td>14.0 kmpl</td>\n",
              "      <td>2498 CC</td>\n",
              "      <td>112 bhp</td>\n",
              "      <td>8.0</td>\n",
              "      <td>NaN</td>\n",
              "      <td>2.90</td>\n",
              "    </tr>\n",
              "    <tr>\n",
              "      <th>6017</th>\n",
              "      <td>Maruti Wagon R VXI</td>\n",
              "      <td>Kolkata</td>\n",
              "      <td>2013</td>\n",
              "      <td>46000</td>\n",
              "      <td>Petrol</td>\n",
              "      <td>Manual</td>\n",
              "      <td>First</td>\n",
              "      <td>18.9 kmpl</td>\n",
              "      <td>998 CC</td>\n",
              "      <td>67.1 bhp</td>\n",
              "      <td>5.0</td>\n",
              "      <td>NaN</td>\n",
              "      <td>2.65</td>\n",
              "    </tr>\n",
              "    <tr>\n",
              "      <th>6018</th>\n",
              "      <td>Chevrolet Beat Diesel</td>\n",
              "      <td>Hyderabad</td>\n",
              "      <td>2011</td>\n",
              "      <td>47000</td>\n",
              "      <td>Diesel</td>\n",
              "      <td>Manual</td>\n",
              "      <td>First</td>\n",
              "      <td>25.44 kmpl</td>\n",
              "      <td>936 CC</td>\n",
              "      <td>57.6 bhp</td>\n",
              "      <td>5.0</td>\n",
              "      <td>NaN</td>\n",
              "      <td>2.50</td>\n",
              "    </tr>\n",
              "  </tbody>\n",
              "</table>\n",
              "<p>6019 rows × 13 columns</p>\n",
              "</div>"
            ],
            "text/plain": [
              "                                  Name    Location  Year  Kilometers_Driven  \\\n",
              "0               Maruti Wagon R LXI CNG      Mumbai  2010              72000   \n",
              "1     Hyundai Creta 1.6 CRDi SX Option        Pune  2015              41000   \n",
              "2                         Honda Jazz V     Chennai  2011              46000   \n",
              "3                    Maruti Ertiga VDI     Chennai  2012              87000   \n",
              "4      Audi A4 New 2.0 TDI Multitronic  Coimbatore  2013              40670   \n",
              "...                                ...         ...   ...                ...   \n",
              "6014                  Maruti Swift VDI       Delhi  2014              27365   \n",
              "6015          Hyundai Xcent 1.1 CRDi S      Jaipur  2015             100000   \n",
              "6016             Mahindra Xylo D4 BSIV      Jaipur  2012              55000   \n",
              "6017                Maruti Wagon R VXI     Kolkata  2013              46000   \n",
              "6018             Chevrolet Beat Diesel   Hyderabad  2011              47000   \n",
              "\n",
              "     Fuel_Type Transmission Owner_Type     Mileage   Engine      Power  Seats  \\\n",
              "0          CNG       Manual      First  26.6 km/kg   998 CC  58.16 bhp    5.0   \n",
              "1       Diesel       Manual      First  19.67 kmpl  1582 CC  126.2 bhp    5.0   \n",
              "2       Petrol       Manual      First   18.2 kmpl  1199 CC   88.7 bhp    5.0   \n",
              "3       Diesel       Manual      First  20.77 kmpl  1248 CC  88.76 bhp    7.0   \n",
              "4       Diesel    Automatic     Second   15.2 kmpl  1968 CC  140.8 bhp    5.0   \n",
              "...        ...          ...        ...         ...      ...        ...    ...   \n",
              "6014    Diesel       Manual      First   28.4 kmpl  1248 CC     74 bhp    5.0   \n",
              "6015    Diesel       Manual      First   24.4 kmpl  1120 CC     71 bhp    5.0   \n",
              "6016    Diesel       Manual     Second   14.0 kmpl  2498 CC    112 bhp    8.0   \n",
              "6017    Petrol       Manual      First   18.9 kmpl   998 CC   67.1 bhp    5.0   \n",
              "6018    Diesel       Manual      First  25.44 kmpl   936 CC   57.6 bhp    5.0   \n",
              "\n",
              "      New_Price  Price  \n",
              "0           NaN   1.75  \n",
              "1           NaN  12.50  \n",
              "2     8.61 Lakh   4.50  \n",
              "3           NaN   6.00  \n",
              "4           NaN  17.74  \n",
              "...         ...    ...  \n",
              "6014  7.88 Lakh   4.75  \n",
              "6015        NaN   4.00  \n",
              "6016        NaN   2.90  \n",
              "6017        NaN   2.65  \n",
              "6018        NaN   2.50  \n",
              "\n",
              "[6019 rows x 13 columns]"
            ]
          },
          "execution_count": 32,
          "metadata": {},
          "output_type": "execute_result"
        }
      ],
      "source": [
        "df=pd.read_csv(r'D:\\COURSES\\AI\\Epsilon Ai\\Session 30\\Assigment\\Assignment\\used_cars_price.csv',encoding='utf-8')\n",
        "df"
      ]
    },
    {
      "cell_type": "code",
      "execution_count": 33,
      "metadata": {
        "colab": {
          "base_uri": "https://localhost:8080/"
        },
        "id": "r1zlf1nX19kz",
        "outputId": "901d5135-941d-416e-da99-580d5c178f1c"
      },
      "outputs": [
        {
          "name": "stdout",
          "output_type": "stream",
          "text": [
            "<class 'pandas.core.frame.DataFrame'>\n",
            "RangeIndex: 6019 entries, 0 to 6018\n",
            "Data columns (total 13 columns):\n",
            " #   Column             Non-Null Count  Dtype  \n",
            "---  ------             --------------  -----  \n",
            " 0   Name               6019 non-null   object \n",
            " 1   Location           6019 non-null   object \n",
            " 2   Year               6019 non-null   int64  \n",
            " 3   Kilometers_Driven  6019 non-null   int64  \n",
            " 4   Fuel_Type          6019 non-null   object \n",
            " 5   Transmission       6019 non-null   object \n",
            " 6   Owner_Type         6019 non-null   object \n",
            " 7   Mileage            6017 non-null   object \n",
            " 8   Engine             5983 non-null   object \n",
            " 9   Power              5983 non-null   object \n",
            " 10  Seats              5977 non-null   float64\n",
            " 11  New_Price          824 non-null    object \n",
            " 12  Price              6019 non-null   float64\n",
            "dtypes: float64(2), int64(2), object(9)\n",
            "memory usage: 611.4+ KB\n"
          ]
        }
      ],
      "source": [
        "df.info()"
      ]
    },
    {
      "cell_type": "code",
      "execution_count": 34,
      "metadata": {
        "colab": {
          "base_uri": "https://localhost:8080/"
        },
        "id": "uGF7zPUq2nxE",
        "outputId": "b171cc20-cf90-4f4b-f3e4-aa2c1c600557"
      },
      "outputs": [
        {
          "data": {
            "text/plain": [
              "Name                    0\n",
              "Location                0\n",
              "Year                    0\n",
              "Kilometers_Driven       0\n",
              "Fuel_Type               0\n",
              "Transmission            0\n",
              "Owner_Type              0\n",
              "Mileage                 2\n",
              "Engine                 36\n",
              "Power                  36\n",
              "Seats                  42\n",
              "New_Price            5195\n",
              "Price                   0\n",
              "dtype: int64"
            ]
          },
          "execution_count": 34,
          "metadata": {},
          "output_type": "execute_result"
        }
      ],
      "source": [
        "df.isnull().sum()"
      ]
    },
    {
      "cell_type": "code",
      "execution_count": 35,
      "metadata": {
        "colab": {
          "base_uri": "https://localhost:8080/"
        },
        "id": "2XAkmNfH2sV4",
        "outputId": "ece4130f-8938-441b-8645-947a60d3f04d"
      },
      "outputs": [
        {
          "data": {
            "text/plain": [
              "Index(['name', 'location', 'year', 'kilometers_driven', 'fuel_type',\n",
              "       'transmission', 'owner_type', 'mileage', 'engine', 'power', 'seats',\n",
              "       'new_price', 'price'],\n",
              "      dtype='object')"
            ]
          },
          "execution_count": 35,
          "metadata": {},
          "output_type": "execute_result"
        }
      ],
      "source": [
        "df.columns=df.columns.str.lower()\n",
        "df.columns"
      ]
    },
    {
      "cell_type": "code",
      "execution_count": 36,
      "metadata": {
        "colab": {
          "base_uri": "https://localhost:8080/",
          "height": 423
        },
        "id": "qu-Knq_v21s0",
        "outputId": "d17a96f8-e8a1-4491-b0cf-f96e8836f6cc"
      },
      "outputs": [
        {
          "data": {
            "text/html": [
              "<div>\n",
              "<style scoped>\n",
              "    .dataframe tbody tr th:only-of-type {\n",
              "        vertical-align: middle;\n",
              "    }\n",
              "\n",
              "    .dataframe tbody tr th {\n",
              "        vertical-align: top;\n",
              "    }\n",
              "\n",
              "    .dataframe thead th {\n",
              "        text-align: right;\n",
              "    }\n",
              "</style>\n",
              "<table border=\"1\" class=\"dataframe\">\n",
              "  <thead>\n",
              "    <tr style=\"text-align: right;\">\n",
              "      <th></th>\n",
              "      <th>year</th>\n",
              "      <th>kilometers_driven</th>\n",
              "      <th>seats</th>\n",
              "      <th>price</th>\n",
              "    </tr>\n",
              "  </thead>\n",
              "  <tbody>\n",
              "    <tr>\n",
              "      <th>0</th>\n",
              "      <td>2010</td>\n",
              "      <td>72000</td>\n",
              "      <td>5.0</td>\n",
              "      <td>1.75</td>\n",
              "    </tr>\n",
              "    <tr>\n",
              "      <th>1</th>\n",
              "      <td>2015</td>\n",
              "      <td>41000</td>\n",
              "      <td>5.0</td>\n",
              "      <td>12.50</td>\n",
              "    </tr>\n",
              "    <tr>\n",
              "      <th>2</th>\n",
              "      <td>2011</td>\n",
              "      <td>46000</td>\n",
              "      <td>5.0</td>\n",
              "      <td>4.50</td>\n",
              "    </tr>\n",
              "    <tr>\n",
              "      <th>3</th>\n",
              "      <td>2012</td>\n",
              "      <td>87000</td>\n",
              "      <td>7.0</td>\n",
              "      <td>6.00</td>\n",
              "    </tr>\n",
              "    <tr>\n",
              "      <th>4</th>\n",
              "      <td>2013</td>\n",
              "      <td>40670</td>\n",
              "      <td>5.0</td>\n",
              "      <td>17.74</td>\n",
              "    </tr>\n",
              "    <tr>\n",
              "      <th>...</th>\n",
              "      <td>...</td>\n",
              "      <td>...</td>\n",
              "      <td>...</td>\n",
              "      <td>...</td>\n",
              "    </tr>\n",
              "    <tr>\n",
              "      <th>6014</th>\n",
              "      <td>2014</td>\n",
              "      <td>27365</td>\n",
              "      <td>5.0</td>\n",
              "      <td>4.75</td>\n",
              "    </tr>\n",
              "    <tr>\n",
              "      <th>6015</th>\n",
              "      <td>2015</td>\n",
              "      <td>100000</td>\n",
              "      <td>5.0</td>\n",
              "      <td>4.00</td>\n",
              "    </tr>\n",
              "    <tr>\n",
              "      <th>6016</th>\n",
              "      <td>2012</td>\n",
              "      <td>55000</td>\n",
              "      <td>8.0</td>\n",
              "      <td>2.90</td>\n",
              "    </tr>\n",
              "    <tr>\n",
              "      <th>6017</th>\n",
              "      <td>2013</td>\n",
              "      <td>46000</td>\n",
              "      <td>5.0</td>\n",
              "      <td>2.65</td>\n",
              "    </tr>\n",
              "    <tr>\n",
              "      <th>6018</th>\n",
              "      <td>2011</td>\n",
              "      <td>47000</td>\n",
              "      <td>5.0</td>\n",
              "      <td>2.50</td>\n",
              "    </tr>\n",
              "  </tbody>\n",
              "</table>\n",
              "<p>6019 rows × 4 columns</p>\n",
              "</div>"
            ],
            "text/plain": [
              "      year  kilometers_driven  seats  price\n",
              "0     2010              72000    5.0   1.75\n",
              "1     2015              41000    5.0  12.50\n",
              "2     2011              46000    5.0   4.50\n",
              "3     2012              87000    7.0   6.00\n",
              "4     2013              40670    5.0  17.74\n",
              "...    ...                ...    ...    ...\n",
              "6014  2014              27365    5.0   4.75\n",
              "6015  2015             100000    5.0   4.00\n",
              "6016  2012              55000    8.0   2.90\n",
              "6017  2013              46000    5.0   2.65\n",
              "6018  2011              47000    5.0   2.50\n",
              "\n",
              "[6019 rows x 4 columns]"
            ]
          },
          "execution_count": 36,
          "metadata": {},
          "output_type": "execute_result"
        }
      ],
      "source": [
        "df.drop(['name', 'location','fuel_type','transmission','owner_type','mileage','engine','power','new_price'],axis=1,inplace=True)\n",
        "df"
      ]
    },
    {
      "cell_type": "code",
      "execution_count": 37,
      "metadata": {
        "colab": {
          "base_uri": "https://localhost:8080/",
          "height": 174
        },
        "id": "ifYeVX1g3Ff4",
        "outputId": "132b65e4-ca3c-4996-e945-b8491f8d57ca"
      },
      "outputs": [
        {
          "data": {
            "text/html": [
              "<div>\n",
              "<style scoped>\n",
              "    .dataframe tbody tr th:only-of-type {\n",
              "        vertical-align: middle;\n",
              "    }\n",
              "\n",
              "    .dataframe tbody tr th {\n",
              "        vertical-align: top;\n",
              "    }\n",
              "\n",
              "    .dataframe thead th {\n",
              "        text-align: right;\n",
              "    }\n",
              "</style>\n",
              "<table border=\"1\" class=\"dataframe\">\n",
              "  <thead>\n",
              "    <tr style=\"text-align: right;\">\n",
              "      <th></th>\n",
              "      <th>year</th>\n",
              "      <th>kilometers_driven</th>\n",
              "      <th>seats</th>\n",
              "      <th>price</th>\n",
              "    </tr>\n",
              "  </thead>\n",
              "  <tbody>\n",
              "    <tr>\n",
              "      <th>year</th>\n",
              "      <td>1.000000</td>\n",
              "      <td>-0.173048</td>\n",
              "      <td>0.012333</td>\n",
              "      <td>0.305327</td>\n",
              "    </tr>\n",
              "    <tr>\n",
              "      <th>kilometers_driven</th>\n",
              "      <td>-0.173048</td>\n",
              "      <td>1.000000</td>\n",
              "      <td>0.083113</td>\n",
              "      <td>-0.011493</td>\n",
              "    </tr>\n",
              "    <tr>\n",
              "      <th>seats</th>\n",
              "      <td>0.012333</td>\n",
              "      <td>0.083113</td>\n",
              "      <td>1.000000</td>\n",
              "      <td>0.052225</td>\n",
              "    </tr>\n",
              "    <tr>\n",
              "      <th>price</th>\n",
              "      <td>0.305327</td>\n",
              "      <td>-0.011493</td>\n",
              "      <td>0.052225</td>\n",
              "      <td>1.000000</td>\n",
              "    </tr>\n",
              "  </tbody>\n",
              "</table>\n",
              "</div>"
            ],
            "text/plain": [
              "                       year  kilometers_driven     seats     price\n",
              "year               1.000000          -0.173048  0.012333  0.305327\n",
              "kilometers_driven -0.173048           1.000000  0.083113 -0.011493\n",
              "seats              0.012333           0.083113  1.000000  0.052225\n",
              "price              0.305327          -0.011493  0.052225  1.000000"
            ]
          },
          "execution_count": 37,
          "metadata": {},
          "output_type": "execute_result"
        }
      ],
      "source": [
        "df.corr()"
      ]
    },
    {
      "cell_type": "code",
      "execution_count": 38,
      "metadata": {
        "id": "2GmDa04A5Nh1"
      },
      "outputs": [],
      "source": [
        "df.dropna(axis=0,inplace=True)"
      ]
    },
    {
      "cell_type": "code",
      "execution_count": 39,
      "metadata": {
        "id": "ldMGUDUC3F_s"
      },
      "outputs": [],
      "source": [
        "x=df.drop('price',axis=1)\n",
        "y=df['price']"
      ]
    },
    {
      "cell_type": "code",
      "execution_count": 40,
      "metadata": {
        "id": "-N6FUI4b4ECg"
      },
      "outputs": [],
      "source": [
        "x_train,x_test,y_train,y_test=train_test_split(x,y,test_size=0.2)\n"
      ]
    },
    {
      "cell_type": "code",
      "execution_count": 41,
      "metadata": {
        "id": "tjTTRC3P4KPm"
      },
      "outputs": [],
      "source": [
        "scaler=StandardScaler()\n",
        "x_train_scaled=scaler.fit_transform(x_train)\n",
        "x_test_scaled=scaler.transform(x_test)"
      ]
    },
    {
      "cell_type": "code",
      "execution_count": 42,
      "metadata": {
        "id": "qmC7o1sM4MI-"
      },
      "outputs": [],
      "source": [
        "poly_obj=PolynomialFeatures(degree=4)\n",
        "x_train_scaled_poly=poly_obj.fit_transform(x_train_scaled)\n",
        "x_test_scaled_poly=poly_obj.transform(x_test_scaled)"
      ]
    },
    {
      "cell_type": "code",
      "execution_count": 43,
      "metadata": {
        "colab": {
          "base_uri": "https://localhost:8080/",
          "height": 74
        },
        "id": "41r6isoW4hgc",
        "outputId": "0c0cd99c-1194-4d10-c1a3-dcd9aaf6138d"
      },
      "outputs": [
        {
          "data": {
            "text/html": [
              "<style>#sk-container-id-5 {color: black;background-color: white;}#sk-container-id-5 pre{padding: 0;}#sk-container-id-5 div.sk-toggleable {background-color: white;}#sk-container-id-5 label.sk-toggleable__label {cursor: pointer;display: block;width: 100%;margin-bottom: 0;padding: 0.3em;box-sizing: border-box;text-align: center;}#sk-container-id-5 label.sk-toggleable__label-arrow:before {content: \"▸\";float: left;margin-right: 0.25em;color: #696969;}#sk-container-id-5 label.sk-toggleable__label-arrow:hover:before {color: black;}#sk-container-id-5 div.sk-estimator:hover label.sk-toggleable__label-arrow:before {color: black;}#sk-container-id-5 div.sk-toggleable__content {max-height: 0;max-width: 0;overflow: hidden;text-align: left;background-color: #f0f8ff;}#sk-container-id-5 div.sk-toggleable__content pre {margin: 0.2em;color: black;border-radius: 0.25em;background-color: #f0f8ff;}#sk-container-id-5 input.sk-toggleable__control:checked~div.sk-toggleable__content {max-height: 200px;max-width: 100%;overflow: auto;}#sk-container-id-5 input.sk-toggleable__control:checked~label.sk-toggleable__label-arrow:before {content: \"▾\";}#sk-container-id-5 div.sk-estimator input.sk-toggleable__control:checked~label.sk-toggleable__label {background-color: #d4ebff;}#sk-container-id-5 div.sk-label input.sk-toggleable__control:checked~label.sk-toggleable__label {background-color: #d4ebff;}#sk-container-id-5 input.sk-hidden--visually {border: 0;clip: rect(1px 1px 1px 1px);clip: rect(1px, 1px, 1px, 1px);height: 1px;margin: -1px;overflow: hidden;padding: 0;position: absolute;width: 1px;}#sk-container-id-5 div.sk-estimator {font-family: monospace;background-color: #f0f8ff;border: 1px dotted black;border-radius: 0.25em;box-sizing: border-box;margin-bottom: 0.5em;}#sk-container-id-5 div.sk-estimator:hover {background-color: #d4ebff;}#sk-container-id-5 div.sk-parallel-item::after {content: \"\";width: 100%;border-bottom: 1px solid gray;flex-grow: 1;}#sk-container-id-5 div.sk-label:hover label.sk-toggleable__label {background-color: #d4ebff;}#sk-container-id-5 div.sk-serial::before {content: \"\";position: absolute;border-left: 1px solid gray;box-sizing: border-box;top: 0;bottom: 0;left: 50%;z-index: 0;}#sk-container-id-5 div.sk-serial {display: flex;flex-direction: column;align-items: center;background-color: white;padding-right: 0.2em;padding-left: 0.2em;position: relative;}#sk-container-id-5 div.sk-item {position: relative;z-index: 1;}#sk-container-id-5 div.sk-parallel {display: flex;align-items: stretch;justify-content: center;background-color: white;position: relative;}#sk-container-id-5 div.sk-item::before, #sk-container-id-5 div.sk-parallel-item::before {content: \"\";position: absolute;border-left: 1px solid gray;box-sizing: border-box;top: 0;bottom: 0;left: 50%;z-index: -1;}#sk-container-id-5 div.sk-parallel-item {display: flex;flex-direction: column;z-index: 1;position: relative;background-color: white;}#sk-container-id-5 div.sk-parallel-item:first-child::after {align-self: flex-end;width: 50%;}#sk-container-id-5 div.sk-parallel-item:last-child::after {align-self: flex-start;width: 50%;}#sk-container-id-5 div.sk-parallel-item:only-child::after {width: 0;}#sk-container-id-5 div.sk-dashed-wrapped {border: 1px dashed gray;margin: 0 0.4em 0.5em 0.4em;box-sizing: border-box;padding-bottom: 0.4em;background-color: white;}#sk-container-id-5 div.sk-label label {font-family: monospace;font-weight: bold;display: inline-block;line-height: 1.2em;}#sk-container-id-5 div.sk-label-container {text-align: center;}#sk-container-id-5 div.sk-container {/* jupyter's `normalize.less` sets `[hidden] { display: none; }` but bootstrap.min.css set `[hidden] { display: none !important; }` so we also need the `!important` here to be able to override the default hidden behavior on the sphinx rendered scikit-learn.org. See: https://github.com/scikit-learn/scikit-learn/issues/21755 */display: inline-block !important;position: relative;}#sk-container-id-5 div.sk-text-repr-fallback {display: none;}</style><div id=\"sk-container-id-5\" class=\"sk-top-container\"><div class=\"sk-text-repr-fallback\"><pre>LinearRegression()</pre><b>In a Jupyter environment, please rerun this cell to show the HTML representation or trust the notebook. <br />On GitHub, the HTML representation is unable to render, please try loading this page with nbviewer.org.</b></div><div class=\"sk-container\" hidden><div class=\"sk-item\"><div class=\"sk-estimator sk-toggleable\"><input class=\"sk-toggleable__control sk-hidden--visually\" id=\"sk-estimator-id-5\" type=\"checkbox\" checked><label for=\"sk-estimator-id-5\" class=\"sk-toggleable__label sk-toggleable__label-arrow\">LinearRegression</label><div class=\"sk-toggleable__content\"><pre>LinearRegression()</pre></div></div></div></div></div>"
            ],
            "text/plain": [
              "LinearRegression()"
            ]
          },
          "execution_count": 43,
          "metadata": {},
          "output_type": "execute_result"
        }
      ],
      "source": [
        "model=LinearRegression()\n",
        "model"
      ]
    },
    {
      "cell_type": "code",
      "execution_count": 44,
      "metadata": {
        "colab": {
          "base_uri": "https://localhost:8080/",
          "height": 74
        },
        "id": "iqXVGymm4W9W",
        "outputId": "a16118bb-0806-4c25-ad65-7a9a96aad3bc"
      },
      "outputs": [
        {
          "data": {
            "text/html": [
              "<style>#sk-container-id-6 {color: black;background-color: white;}#sk-container-id-6 pre{padding: 0;}#sk-container-id-6 div.sk-toggleable {background-color: white;}#sk-container-id-6 label.sk-toggleable__label {cursor: pointer;display: block;width: 100%;margin-bottom: 0;padding: 0.3em;box-sizing: border-box;text-align: center;}#sk-container-id-6 label.sk-toggleable__label-arrow:before {content: \"▸\";float: left;margin-right: 0.25em;color: #696969;}#sk-container-id-6 label.sk-toggleable__label-arrow:hover:before {color: black;}#sk-container-id-6 div.sk-estimator:hover label.sk-toggleable__label-arrow:before {color: black;}#sk-container-id-6 div.sk-toggleable__content {max-height: 0;max-width: 0;overflow: hidden;text-align: left;background-color: #f0f8ff;}#sk-container-id-6 div.sk-toggleable__content pre {margin: 0.2em;color: black;border-radius: 0.25em;background-color: #f0f8ff;}#sk-container-id-6 input.sk-toggleable__control:checked~div.sk-toggleable__content {max-height: 200px;max-width: 100%;overflow: auto;}#sk-container-id-6 input.sk-toggleable__control:checked~label.sk-toggleable__label-arrow:before {content: \"▾\";}#sk-container-id-6 div.sk-estimator input.sk-toggleable__control:checked~label.sk-toggleable__label {background-color: #d4ebff;}#sk-container-id-6 div.sk-label input.sk-toggleable__control:checked~label.sk-toggleable__label {background-color: #d4ebff;}#sk-container-id-6 input.sk-hidden--visually {border: 0;clip: rect(1px 1px 1px 1px);clip: rect(1px, 1px, 1px, 1px);height: 1px;margin: -1px;overflow: hidden;padding: 0;position: absolute;width: 1px;}#sk-container-id-6 div.sk-estimator {font-family: monospace;background-color: #f0f8ff;border: 1px dotted black;border-radius: 0.25em;box-sizing: border-box;margin-bottom: 0.5em;}#sk-container-id-6 div.sk-estimator:hover {background-color: #d4ebff;}#sk-container-id-6 div.sk-parallel-item::after {content: \"\";width: 100%;border-bottom: 1px solid gray;flex-grow: 1;}#sk-container-id-6 div.sk-label:hover label.sk-toggleable__label {background-color: #d4ebff;}#sk-container-id-6 div.sk-serial::before {content: \"\";position: absolute;border-left: 1px solid gray;box-sizing: border-box;top: 0;bottom: 0;left: 50%;z-index: 0;}#sk-container-id-6 div.sk-serial {display: flex;flex-direction: column;align-items: center;background-color: white;padding-right: 0.2em;padding-left: 0.2em;position: relative;}#sk-container-id-6 div.sk-item {position: relative;z-index: 1;}#sk-container-id-6 div.sk-parallel {display: flex;align-items: stretch;justify-content: center;background-color: white;position: relative;}#sk-container-id-6 div.sk-item::before, #sk-container-id-6 div.sk-parallel-item::before {content: \"\";position: absolute;border-left: 1px solid gray;box-sizing: border-box;top: 0;bottom: 0;left: 50%;z-index: -1;}#sk-container-id-6 div.sk-parallel-item {display: flex;flex-direction: column;z-index: 1;position: relative;background-color: white;}#sk-container-id-6 div.sk-parallel-item:first-child::after {align-self: flex-end;width: 50%;}#sk-container-id-6 div.sk-parallel-item:last-child::after {align-self: flex-start;width: 50%;}#sk-container-id-6 div.sk-parallel-item:only-child::after {width: 0;}#sk-container-id-6 div.sk-dashed-wrapped {border: 1px dashed gray;margin: 0 0.4em 0.5em 0.4em;box-sizing: border-box;padding-bottom: 0.4em;background-color: white;}#sk-container-id-6 div.sk-label label {font-family: monospace;font-weight: bold;display: inline-block;line-height: 1.2em;}#sk-container-id-6 div.sk-label-container {text-align: center;}#sk-container-id-6 div.sk-container {/* jupyter's `normalize.less` sets `[hidden] { display: none; }` but bootstrap.min.css set `[hidden] { display: none !important; }` so we also need the `!important` here to be able to override the default hidden behavior on the sphinx rendered scikit-learn.org. See: https://github.com/scikit-learn/scikit-learn/issues/21755 */display: inline-block !important;position: relative;}#sk-container-id-6 div.sk-text-repr-fallback {display: none;}</style><div id=\"sk-container-id-6\" class=\"sk-top-container\"><div class=\"sk-text-repr-fallback\"><pre>LinearRegression()</pre><b>In a Jupyter environment, please rerun this cell to show the HTML representation or trust the notebook. <br />On GitHub, the HTML representation is unable to render, please try loading this page with nbviewer.org.</b></div><div class=\"sk-container\" hidden><div class=\"sk-item\"><div class=\"sk-estimator sk-toggleable\"><input class=\"sk-toggleable__control sk-hidden--visually\" id=\"sk-estimator-id-6\" type=\"checkbox\" checked><label for=\"sk-estimator-id-6\" class=\"sk-toggleable__label sk-toggleable__label-arrow\">LinearRegression</label><div class=\"sk-toggleable__content\"><pre>LinearRegression()</pre></div></div></div></div></div>"
            ],
            "text/plain": [
              "LinearRegression()"
            ]
          },
          "execution_count": 44,
          "metadata": {},
          "output_type": "execute_result"
        }
      ],
      "source": [
        "model.fit(x_train_scaled,y_train)"
      ]
    },
    {
      "cell_type": "code",
      "execution_count": 45,
      "metadata": {
        "colab": {
          "base_uri": "https://localhost:8080/"
        },
        "id": "JgD2LFqe4okI",
        "outputId": "af167627-dad8-4e0b-e53a-9ea861833491"
      },
      "outputs": [
        {
          "data": {
            "text/plain": [
              "0.09791440983972877"
            ]
          },
          "execution_count": 45,
          "metadata": {},
          "output_type": "execute_result"
        }
      ],
      "source": [
        "model.score(x_train_scaled,y_train)"
      ]
    },
    {
      "cell_type": "code",
      "execution_count": 46,
      "metadata": {
        "colab": {
          "base_uri": "https://localhost:8080/"
        },
        "id": "wBSagBOh5jfW",
        "outputId": "119155e8-52b4-4e4e-f102-b321470b75c4"
      },
      "outputs": [
        {
          "data": {
            "text/plain": [
              "0.09393118072306472"
            ]
          },
          "execution_count": 46,
          "metadata": {},
          "output_type": "execute_result"
        }
      ],
      "source": [
        "model.score(x_test_scaled,y_test)"
      ]
    },
    {
      "cell_type": "code",
      "execution_count": 47,
      "metadata": {
        "colab": {
          "base_uri": "https://localhost:8080/"
        },
        "id": "bPfXOsAm5lOi",
        "outputId": "35231a22-00fb-43b4-e665-e86e57e96421"
      },
      "outputs": [
        {
          "data": {
            "text/plain": [
              "0.18039497855204456"
            ]
          },
          "execution_count": 47,
          "metadata": {},
          "output_type": "execute_result"
        }
      ],
      "source": [
        "model.fit(x_train_scaled_poly,y_train)\n",
        "model.score(x_train_scaled_poly,y_train)"
      ]
    },
    {
      "cell_type": "code",
      "execution_count": 48,
      "metadata": {
        "colab": {
          "base_uri": "https://localhost:8080/"
        },
        "id": "8BsGVqD65qOF",
        "outputId": "9c64b4b2-7e8e-486e-b199-983750d9c828"
      },
      "outputs": [
        {
          "data": {
            "text/plain": [
              "0.22441350972937035"
            ]
          },
          "execution_count": 48,
          "metadata": {},
          "output_type": "execute_result"
        }
      ],
      "source": [
        "model.score(x_test_scaled_poly,y_test)"
      ]
    },
    {
      "cell_type": "code",
      "execution_count": 49,
      "metadata": {
        "id": "ooCFrPbq5tcj"
      },
      "outputs": [],
      "source": [
        "model=KNeighborsRegressor(n_neighbors=5)"
      ]
    },
    {
      "cell_type": "code",
      "execution_count": 50,
      "metadata": {
        "colab": {
          "base_uri": "https://localhost:8080/",
          "height": 74
        },
        "id": "ylWJSNBm5x4_",
        "outputId": "84211cd0-ca20-405c-b0e7-72379bbd68d9"
      },
      "outputs": [
        {
          "data": {
            "text/html": [
              "<style>#sk-container-id-7 {color: black;background-color: white;}#sk-container-id-7 pre{padding: 0;}#sk-container-id-7 div.sk-toggleable {background-color: white;}#sk-container-id-7 label.sk-toggleable__label {cursor: pointer;display: block;width: 100%;margin-bottom: 0;padding: 0.3em;box-sizing: border-box;text-align: center;}#sk-container-id-7 label.sk-toggleable__label-arrow:before {content: \"▸\";float: left;margin-right: 0.25em;color: #696969;}#sk-container-id-7 label.sk-toggleable__label-arrow:hover:before {color: black;}#sk-container-id-7 div.sk-estimator:hover label.sk-toggleable__label-arrow:before {color: black;}#sk-container-id-7 div.sk-toggleable__content {max-height: 0;max-width: 0;overflow: hidden;text-align: left;background-color: #f0f8ff;}#sk-container-id-7 div.sk-toggleable__content pre {margin: 0.2em;color: black;border-radius: 0.25em;background-color: #f0f8ff;}#sk-container-id-7 input.sk-toggleable__control:checked~div.sk-toggleable__content {max-height: 200px;max-width: 100%;overflow: auto;}#sk-container-id-7 input.sk-toggleable__control:checked~label.sk-toggleable__label-arrow:before {content: \"▾\";}#sk-container-id-7 div.sk-estimator input.sk-toggleable__control:checked~label.sk-toggleable__label {background-color: #d4ebff;}#sk-container-id-7 div.sk-label input.sk-toggleable__control:checked~label.sk-toggleable__label {background-color: #d4ebff;}#sk-container-id-7 input.sk-hidden--visually {border: 0;clip: rect(1px 1px 1px 1px);clip: rect(1px, 1px, 1px, 1px);height: 1px;margin: -1px;overflow: hidden;padding: 0;position: absolute;width: 1px;}#sk-container-id-7 div.sk-estimator {font-family: monospace;background-color: #f0f8ff;border: 1px dotted black;border-radius: 0.25em;box-sizing: border-box;margin-bottom: 0.5em;}#sk-container-id-7 div.sk-estimator:hover {background-color: #d4ebff;}#sk-container-id-7 div.sk-parallel-item::after {content: \"\";width: 100%;border-bottom: 1px solid gray;flex-grow: 1;}#sk-container-id-7 div.sk-label:hover label.sk-toggleable__label {background-color: #d4ebff;}#sk-container-id-7 div.sk-serial::before {content: \"\";position: absolute;border-left: 1px solid gray;box-sizing: border-box;top: 0;bottom: 0;left: 50%;z-index: 0;}#sk-container-id-7 div.sk-serial {display: flex;flex-direction: column;align-items: center;background-color: white;padding-right: 0.2em;padding-left: 0.2em;position: relative;}#sk-container-id-7 div.sk-item {position: relative;z-index: 1;}#sk-container-id-7 div.sk-parallel {display: flex;align-items: stretch;justify-content: center;background-color: white;position: relative;}#sk-container-id-7 div.sk-item::before, #sk-container-id-7 div.sk-parallel-item::before {content: \"\";position: absolute;border-left: 1px solid gray;box-sizing: border-box;top: 0;bottom: 0;left: 50%;z-index: -1;}#sk-container-id-7 div.sk-parallel-item {display: flex;flex-direction: column;z-index: 1;position: relative;background-color: white;}#sk-container-id-7 div.sk-parallel-item:first-child::after {align-self: flex-end;width: 50%;}#sk-container-id-7 div.sk-parallel-item:last-child::after {align-self: flex-start;width: 50%;}#sk-container-id-7 div.sk-parallel-item:only-child::after {width: 0;}#sk-container-id-7 div.sk-dashed-wrapped {border: 1px dashed gray;margin: 0 0.4em 0.5em 0.4em;box-sizing: border-box;padding-bottom: 0.4em;background-color: white;}#sk-container-id-7 div.sk-label label {font-family: monospace;font-weight: bold;display: inline-block;line-height: 1.2em;}#sk-container-id-7 div.sk-label-container {text-align: center;}#sk-container-id-7 div.sk-container {/* jupyter's `normalize.less` sets `[hidden] { display: none; }` but bootstrap.min.css set `[hidden] { display: none !important; }` so we also need the `!important` here to be able to override the default hidden behavior on the sphinx rendered scikit-learn.org. See: https://github.com/scikit-learn/scikit-learn/issues/21755 */display: inline-block !important;position: relative;}#sk-container-id-7 div.sk-text-repr-fallback {display: none;}</style><div id=\"sk-container-id-7\" class=\"sk-top-container\"><div class=\"sk-text-repr-fallback\"><pre>KNeighborsRegressor()</pre><b>In a Jupyter environment, please rerun this cell to show the HTML representation or trust the notebook. <br />On GitHub, the HTML representation is unable to render, please try loading this page with nbviewer.org.</b></div><div class=\"sk-container\" hidden><div class=\"sk-item\"><div class=\"sk-estimator sk-toggleable\"><input class=\"sk-toggleable__control sk-hidden--visually\" id=\"sk-estimator-id-7\" type=\"checkbox\" checked><label for=\"sk-estimator-id-7\" class=\"sk-toggleable__label sk-toggleable__label-arrow\">KNeighborsRegressor</label><div class=\"sk-toggleable__content\"><pre>KNeighborsRegressor()</pre></div></div></div></div></div>"
            ],
            "text/plain": [
              "KNeighborsRegressor()"
            ]
          },
          "execution_count": 50,
          "metadata": {},
          "output_type": "execute_result"
        }
      ],
      "source": [
        "model.fit(x_train_scaled,y_train)"
      ]
    },
    {
      "cell_type": "code",
      "execution_count": 51,
      "metadata": {
        "colab": {
          "base_uri": "https://localhost:8080/"
        },
        "id": "o-PT22Zi54ZA",
        "outputId": "4e4f7b84-a9d1-46b5-ae83-4cc03d38a245"
      },
      "outputs": [
        {
          "data": {
            "text/plain": [
              "0.34693309855708543"
            ]
          },
          "execution_count": 51,
          "metadata": {},
          "output_type": "execute_result"
        }
      ],
      "source": [
        "model.score(x_train_scaled,y_train)"
      ]
    },
    {
      "cell_type": "code",
      "execution_count": 52,
      "metadata": {
        "colab": {
          "base_uri": "https://localhost:8080/"
        },
        "id": "7ZpOYrEA55SO",
        "outputId": "4921eef7-c82f-4c59-c2ad-0461f8bdfafc"
      },
      "outputs": [
        {
          "data": {
            "text/plain": [
              "0.09583628100262953"
            ]
          },
          "execution_count": 52,
          "metadata": {},
          "output_type": "execute_result"
        }
      ],
      "source": [
        "model.score(x_test_scaled,y_test)"
      ]
    },
    {
      "cell_type": "code",
      "execution_count": 53,
      "metadata": {
        "id": "2cBGP35756KA"
      },
      "outputs": [],
      "source": [
        "models={\n",
        "    'lr':LinearRegression(),\n",
        "    'KNN':KNeighborsRegressor(n_neighbors=5),\n",
        "    'SVR':SVR()\n",
        "}"
      ]
    },
    {
      "cell_type": "code",
      "execution_count": 54,
      "metadata": {
        "colab": {
          "base_uri": "https://localhost:8080/"
        },
        "id": "VCDbK3Zx57M9",
        "outputId": "4b338410-a411-4b28-a3f2-41cabb5113c8"
      },
      "outputs": [
        {
          "name": "stdout",
          "output_type": "stream",
          "text": [
            "using: lr\n",
            "train accuracy:  0.09791440983972877\n",
            "test accuracy:  0.09393118072306472\n",
            "--------------------\n",
            "using: KNN\n",
            "train accuracy:  0.34693309855708543\n",
            "test accuracy:  0.09583628100262953\n",
            "--------------------\n",
            "using: SVR\n",
            "train accuracy:  0.03522354002940298\n",
            "test accuracy:  0.027938150792667926\n",
            "--------------------\n"
          ]
        }
      ],
      "source": [
        "for name,model in models.items():\n",
        "    print('using:',name)\n",
        "    model.fit(x_train_scaled,y_train)\n",
        "    print('train accuracy: ',model.score(x_train_scaled,y_train))\n",
        "    print('test accuracy: ',model.score(x_test_scaled,y_test))\n",
        "    print('-'*20)"
      ]
    },
    {
      "cell_type": "code",
      "execution_count": 55,
      "metadata": {
        "colab": {
          "base_uri": "https://localhost:8080/",
          "height": 74
        },
        "id": "f6HTE0lG6Awx",
        "outputId": "0f16028b-06f6-4e5e-9c93-20b8e5b110c9"
      },
      "outputs": [
        {
          "data": {
            "text/html": [
              "<style>#sk-container-id-8 {color: black;background-color: white;}#sk-container-id-8 pre{padding: 0;}#sk-container-id-8 div.sk-toggleable {background-color: white;}#sk-container-id-8 label.sk-toggleable__label {cursor: pointer;display: block;width: 100%;margin-bottom: 0;padding: 0.3em;box-sizing: border-box;text-align: center;}#sk-container-id-8 label.sk-toggleable__label-arrow:before {content: \"▸\";float: left;margin-right: 0.25em;color: #696969;}#sk-container-id-8 label.sk-toggleable__label-arrow:hover:before {color: black;}#sk-container-id-8 div.sk-estimator:hover label.sk-toggleable__label-arrow:before {color: black;}#sk-container-id-8 div.sk-toggleable__content {max-height: 0;max-width: 0;overflow: hidden;text-align: left;background-color: #f0f8ff;}#sk-container-id-8 div.sk-toggleable__content pre {margin: 0.2em;color: black;border-radius: 0.25em;background-color: #f0f8ff;}#sk-container-id-8 input.sk-toggleable__control:checked~div.sk-toggleable__content {max-height: 200px;max-width: 100%;overflow: auto;}#sk-container-id-8 input.sk-toggleable__control:checked~label.sk-toggleable__label-arrow:before {content: \"▾\";}#sk-container-id-8 div.sk-estimator input.sk-toggleable__control:checked~label.sk-toggleable__label {background-color: #d4ebff;}#sk-container-id-8 div.sk-label input.sk-toggleable__control:checked~label.sk-toggleable__label {background-color: #d4ebff;}#sk-container-id-8 input.sk-hidden--visually {border: 0;clip: rect(1px 1px 1px 1px);clip: rect(1px, 1px, 1px, 1px);height: 1px;margin: -1px;overflow: hidden;padding: 0;position: absolute;width: 1px;}#sk-container-id-8 div.sk-estimator {font-family: monospace;background-color: #f0f8ff;border: 1px dotted black;border-radius: 0.25em;box-sizing: border-box;margin-bottom: 0.5em;}#sk-container-id-8 div.sk-estimator:hover {background-color: #d4ebff;}#sk-container-id-8 div.sk-parallel-item::after {content: \"\";width: 100%;border-bottom: 1px solid gray;flex-grow: 1;}#sk-container-id-8 div.sk-label:hover label.sk-toggleable__label {background-color: #d4ebff;}#sk-container-id-8 div.sk-serial::before {content: \"\";position: absolute;border-left: 1px solid gray;box-sizing: border-box;top: 0;bottom: 0;left: 50%;z-index: 0;}#sk-container-id-8 div.sk-serial {display: flex;flex-direction: column;align-items: center;background-color: white;padding-right: 0.2em;padding-left: 0.2em;position: relative;}#sk-container-id-8 div.sk-item {position: relative;z-index: 1;}#sk-container-id-8 div.sk-parallel {display: flex;align-items: stretch;justify-content: center;background-color: white;position: relative;}#sk-container-id-8 div.sk-item::before, #sk-container-id-8 div.sk-parallel-item::before {content: \"\";position: absolute;border-left: 1px solid gray;box-sizing: border-box;top: 0;bottom: 0;left: 50%;z-index: -1;}#sk-container-id-8 div.sk-parallel-item {display: flex;flex-direction: column;z-index: 1;position: relative;background-color: white;}#sk-container-id-8 div.sk-parallel-item:first-child::after {align-self: flex-end;width: 50%;}#sk-container-id-8 div.sk-parallel-item:last-child::after {align-self: flex-start;width: 50%;}#sk-container-id-8 div.sk-parallel-item:only-child::after {width: 0;}#sk-container-id-8 div.sk-dashed-wrapped {border: 1px dashed gray;margin: 0 0.4em 0.5em 0.4em;box-sizing: border-box;padding-bottom: 0.4em;background-color: white;}#sk-container-id-8 div.sk-label label {font-family: monospace;font-weight: bold;display: inline-block;line-height: 1.2em;}#sk-container-id-8 div.sk-label-container {text-align: center;}#sk-container-id-8 div.sk-container {/* jupyter's `normalize.less` sets `[hidden] { display: none; }` but bootstrap.min.css set `[hidden] { display: none !important; }` so we also need the `!important` here to be able to override the default hidden behavior on the sphinx rendered scikit-learn.org. See: https://github.com/scikit-learn/scikit-learn/issues/21755 */display: inline-block !important;position: relative;}#sk-container-id-8 div.sk-text-repr-fallback {display: none;}</style><div id=\"sk-container-id-8\" class=\"sk-top-container\"><div class=\"sk-text-repr-fallback\"><pre>SVR()</pre><b>In a Jupyter environment, please rerun this cell to show the HTML representation or trust the notebook. <br />On GitHub, the HTML representation is unable to render, please try loading this page with nbviewer.org.</b></div><div class=\"sk-container\" hidden><div class=\"sk-item\"><div class=\"sk-estimator sk-toggleable\"><input class=\"sk-toggleable__control sk-hidden--visually\" id=\"sk-estimator-id-8\" type=\"checkbox\" checked><label for=\"sk-estimator-id-8\" class=\"sk-toggleable__label sk-toggleable__label-arrow\">SVR</label><div class=\"sk-toggleable__content\"><pre>SVR()</pre></div></div></div></div></div>"
            ],
            "text/plain": [
              "SVR()"
            ]
          },
          "execution_count": 55,
          "metadata": {},
          "output_type": "execute_result"
        }
      ],
      "source": [
        "model.fit(x_train_scaled,y_train)\n"
      ]
    },
    {
      "cell_type": "code",
      "execution_count": 56,
      "metadata": {
        "id": "jZUCzrRW6kzv"
      },
      "outputs": [],
      "source": [
        "features=x.columns.to_list()"
      ]
    },
    {
      "cell_type": "code",
      "execution_count": 57,
      "metadata": {
        "id": "Bt_ddEoi6Gg-"
      },
      "outputs": [],
      "source": [
        "import joblib"
      ]
    },
    {
      "cell_type": "code",
      "execution_count": 58,
      "metadata": {
        "colab": {
          "base_uri": "https://localhost:8080/"
        },
        "id": "kGFRCGAH6fCj",
        "outputId": "064815d1-e499-416e-e928-3f466863a8e8"
      },
      "outputs": [
        {
          "data": {
            "text/plain": [
              "['used_cars_features.h5']"
            ]
          },
          "execution_count": 58,
          "metadata": {},
          "output_type": "execute_result"
        }
      ],
      "source": [
        "joblib.dump(model,'used_cars_model.h5')\n",
        "joblib.dump(scaler,'used_cars_scaler.h5')\n",
        "joblib.dump(features,'used_cars_features.h5')"
      ]
    },
    {
      "cell_type": "code",
      "execution_count": 59,
      "metadata": {
        "id": "E3S1bSSm6yc_"
      },
      "outputs": [],
      "source": [
        "file_path = r'D:\\COURSES\\AI\\Epsilon Ai\\Session 30\\Assigment\\Assignment\\Airflight_prices.xlsx'\n",
        "\n",
        "# Read the Excel file\n",
        "df = pd.read_excel(file_path)"
      ]
    },
    {
      "cell_type": "code",
      "execution_count": 60,
      "metadata": {
        "colab": {
          "base_uri": "https://localhost:8080/",
          "height": 1000
        },
        "id": "M-RVYR0g7U4z",
        "outputId": "49afe47a-6d98-474c-c5ad-cbe3c5db7f2d"
      },
      "outputs": [
        {
          "data": {
            "text/html": [
              "<div>\n",
              "<style scoped>\n",
              "    .dataframe tbody tr th:only-of-type {\n",
              "        vertical-align: middle;\n",
              "    }\n",
              "\n",
              "    .dataframe tbody tr th {\n",
              "        vertical-align: top;\n",
              "    }\n",
              "\n",
              "    .dataframe thead th {\n",
              "        text-align: right;\n",
              "    }\n",
              "</style>\n",
              "<table border=\"1\" class=\"dataframe\">\n",
              "  <thead>\n",
              "    <tr style=\"text-align: right;\">\n",
              "      <th></th>\n",
              "      <th>Airline</th>\n",
              "      <th>Date_of_Journey</th>\n",
              "      <th>Source</th>\n",
              "      <th>Destination</th>\n",
              "      <th>Route</th>\n",
              "      <th>Dep_Time</th>\n",
              "      <th>Arrival_Time</th>\n",
              "      <th>Duration</th>\n",
              "      <th>Total_Stops</th>\n",
              "      <th>Additional_Info</th>\n",
              "      <th>Price</th>\n",
              "    </tr>\n",
              "  </thead>\n",
              "  <tbody>\n",
              "    <tr>\n",
              "      <th>0</th>\n",
              "      <td>IndiGo</td>\n",
              "      <td>24/03/2019</td>\n",
              "      <td>Banglore</td>\n",
              "      <td>New Delhi</td>\n",
              "      <td>BLR → DEL</td>\n",
              "      <td>22:20</td>\n",
              "      <td>01:10 22 Mar</td>\n",
              "      <td>2h 50m</td>\n",
              "      <td>non-stop</td>\n",
              "      <td>No info</td>\n",
              "      <td>3897</td>\n",
              "    </tr>\n",
              "    <tr>\n",
              "      <th>1</th>\n",
              "      <td>Air India</td>\n",
              "      <td>1/05/2019</td>\n",
              "      <td>Kolkata</td>\n",
              "      <td>Banglore</td>\n",
              "      <td>CCU → IXR → BBI → BLR</td>\n",
              "      <td>05:50</td>\n",
              "      <td>13:15</td>\n",
              "      <td>7h 25m</td>\n",
              "      <td>2 stops</td>\n",
              "      <td>No info</td>\n",
              "      <td>7662</td>\n",
              "    </tr>\n",
              "    <tr>\n",
              "      <th>2</th>\n",
              "      <td>Jet Airways</td>\n",
              "      <td>9/06/2019</td>\n",
              "      <td>Delhi</td>\n",
              "      <td>Cochin</td>\n",
              "      <td>DEL → LKO → BOM → COK</td>\n",
              "      <td>09:25</td>\n",
              "      <td>04:25 10 Jun</td>\n",
              "      <td>19h</td>\n",
              "      <td>2 stops</td>\n",
              "      <td>No info</td>\n",
              "      <td>13882</td>\n",
              "    </tr>\n",
              "    <tr>\n",
              "      <th>3</th>\n",
              "      <td>IndiGo</td>\n",
              "      <td>12/05/2019</td>\n",
              "      <td>Kolkata</td>\n",
              "      <td>Banglore</td>\n",
              "      <td>CCU → NAG → BLR</td>\n",
              "      <td>18:05</td>\n",
              "      <td>23:30</td>\n",
              "      <td>5h 25m</td>\n",
              "      <td>1 stop</td>\n",
              "      <td>No info</td>\n",
              "      <td>6218</td>\n",
              "    </tr>\n",
              "    <tr>\n",
              "      <th>4</th>\n",
              "      <td>IndiGo</td>\n",
              "      <td>01/03/2019</td>\n",
              "      <td>Banglore</td>\n",
              "      <td>New Delhi</td>\n",
              "      <td>BLR → NAG → DEL</td>\n",
              "      <td>16:50</td>\n",
              "      <td>21:35</td>\n",
              "      <td>4h 45m</td>\n",
              "      <td>1 stop</td>\n",
              "      <td>No info</td>\n",
              "      <td>13302</td>\n",
              "    </tr>\n",
              "    <tr>\n",
              "      <th>...</th>\n",
              "      <td>...</td>\n",
              "      <td>...</td>\n",
              "      <td>...</td>\n",
              "      <td>...</td>\n",
              "      <td>...</td>\n",
              "      <td>...</td>\n",
              "      <td>...</td>\n",
              "      <td>...</td>\n",
              "      <td>...</td>\n",
              "      <td>...</td>\n",
              "      <td>...</td>\n",
              "    </tr>\n",
              "    <tr>\n",
              "      <th>10678</th>\n",
              "      <td>Air Asia</td>\n",
              "      <td>9/04/2019</td>\n",
              "      <td>Kolkata</td>\n",
              "      <td>Banglore</td>\n",
              "      <td>CCU → BLR</td>\n",
              "      <td>19:55</td>\n",
              "      <td>22:25</td>\n",
              "      <td>2h 30m</td>\n",
              "      <td>non-stop</td>\n",
              "      <td>No info</td>\n",
              "      <td>4107</td>\n",
              "    </tr>\n",
              "    <tr>\n",
              "      <th>10679</th>\n",
              "      <td>Air India</td>\n",
              "      <td>27/04/2019</td>\n",
              "      <td>Kolkata</td>\n",
              "      <td>Banglore</td>\n",
              "      <td>CCU → BLR</td>\n",
              "      <td>20:45</td>\n",
              "      <td>23:20</td>\n",
              "      <td>2h 35m</td>\n",
              "      <td>non-stop</td>\n",
              "      <td>No info</td>\n",
              "      <td>4145</td>\n",
              "    </tr>\n",
              "    <tr>\n",
              "      <th>10680</th>\n",
              "      <td>Jet Airways</td>\n",
              "      <td>27/04/2019</td>\n",
              "      <td>Banglore</td>\n",
              "      <td>Delhi</td>\n",
              "      <td>BLR → DEL</td>\n",
              "      <td>08:20</td>\n",
              "      <td>11:20</td>\n",
              "      <td>3h</td>\n",
              "      <td>non-stop</td>\n",
              "      <td>No info</td>\n",
              "      <td>7229</td>\n",
              "    </tr>\n",
              "    <tr>\n",
              "      <th>10681</th>\n",
              "      <td>Vistara</td>\n",
              "      <td>01/03/2019</td>\n",
              "      <td>Banglore</td>\n",
              "      <td>New Delhi</td>\n",
              "      <td>BLR → DEL</td>\n",
              "      <td>11:30</td>\n",
              "      <td>14:10</td>\n",
              "      <td>2h 40m</td>\n",
              "      <td>non-stop</td>\n",
              "      <td>No info</td>\n",
              "      <td>12648</td>\n",
              "    </tr>\n",
              "    <tr>\n",
              "      <th>10682</th>\n",
              "      <td>Air India</td>\n",
              "      <td>9/05/2019</td>\n",
              "      <td>Delhi</td>\n",
              "      <td>Cochin</td>\n",
              "      <td>DEL → GOI → BOM → COK</td>\n",
              "      <td>10:55</td>\n",
              "      <td>19:15</td>\n",
              "      <td>8h 20m</td>\n",
              "      <td>2 stops</td>\n",
              "      <td>No info</td>\n",
              "      <td>11753</td>\n",
              "    </tr>\n",
              "  </tbody>\n",
              "</table>\n",
              "<p>10683 rows × 11 columns</p>\n",
              "</div>"
            ],
            "text/plain": [
              "           Airline Date_of_Journey    Source Destination  \\\n",
              "0           IndiGo      24/03/2019  Banglore   New Delhi   \n",
              "1        Air India       1/05/2019   Kolkata    Banglore   \n",
              "2      Jet Airways       9/06/2019     Delhi      Cochin   \n",
              "3           IndiGo      12/05/2019   Kolkata    Banglore   \n",
              "4           IndiGo      01/03/2019  Banglore   New Delhi   \n",
              "...            ...             ...       ...         ...   \n",
              "10678     Air Asia       9/04/2019   Kolkata    Banglore   \n",
              "10679    Air India      27/04/2019   Kolkata    Banglore   \n",
              "10680  Jet Airways      27/04/2019  Banglore       Delhi   \n",
              "10681      Vistara      01/03/2019  Banglore   New Delhi   \n",
              "10682    Air India       9/05/2019     Delhi      Cochin   \n",
              "\n",
              "                       Route Dep_Time  Arrival_Time Duration Total_Stops  \\\n",
              "0                  BLR → DEL    22:20  01:10 22 Mar   2h 50m    non-stop   \n",
              "1      CCU → IXR → BBI → BLR    05:50         13:15   7h 25m     2 stops   \n",
              "2      DEL → LKO → BOM → COK    09:25  04:25 10 Jun      19h     2 stops   \n",
              "3            CCU → NAG → BLR    18:05         23:30   5h 25m      1 stop   \n",
              "4            BLR → NAG → DEL    16:50         21:35   4h 45m      1 stop   \n",
              "...                      ...      ...           ...      ...         ...   \n",
              "10678              CCU → BLR    19:55         22:25   2h 30m    non-stop   \n",
              "10679              CCU → BLR    20:45         23:20   2h 35m    non-stop   \n",
              "10680              BLR → DEL    08:20         11:20       3h    non-stop   \n",
              "10681              BLR → DEL    11:30         14:10   2h 40m    non-stop   \n",
              "10682  DEL → GOI → BOM → COK    10:55         19:15   8h 20m     2 stops   \n",
              "\n",
              "      Additional_Info  Price  \n",
              "0             No info   3897  \n",
              "1             No info   7662  \n",
              "2             No info  13882  \n",
              "3             No info   6218  \n",
              "4             No info  13302  \n",
              "...               ...    ...  \n",
              "10678         No info   4107  \n",
              "10679         No info   4145  \n",
              "10680         No info   7229  \n",
              "10681         No info  12648  \n",
              "10682         No info  11753  \n",
              "\n",
              "[10683 rows x 11 columns]"
            ]
          },
          "execution_count": 60,
          "metadata": {},
          "output_type": "execute_result"
        }
      ],
      "source": [
        "df"
      ]
    },
    {
      "cell_type": "code",
      "execution_count": 61,
      "metadata": {
        "colab": {
          "base_uri": "https://localhost:8080/"
        },
        "id": "JPixIiOGBB-S",
        "outputId": "513237bf-5e45-4c05-eaca-14c6102139f1"
      },
      "outputs": [
        {
          "name": "stdout",
          "output_type": "stream",
          "text": [
            "<class 'pandas.core.frame.DataFrame'>\n",
            "RangeIndex: 10683 entries, 0 to 10682\n",
            "Data columns (total 11 columns):\n",
            " #   Column           Non-Null Count  Dtype \n",
            "---  ------           --------------  ----- \n",
            " 0   Airline          10683 non-null  object\n",
            " 1   Date_of_Journey  10683 non-null  object\n",
            " 2   Source           10683 non-null  object\n",
            " 3   Destination      10683 non-null  object\n",
            " 4   Route            10682 non-null  object\n",
            " 5   Dep_Time         10683 non-null  object\n",
            " 6   Arrival_Time     10683 non-null  object\n",
            " 7   Duration         10683 non-null  object\n",
            " 8   Total_Stops      10682 non-null  object\n",
            " 9   Additional_Info  10683 non-null  object\n",
            " 10  Price            10683 non-null  int64 \n",
            "dtypes: int64(1), object(10)\n",
            "memory usage: 918.2+ KB\n"
          ]
        }
      ],
      "source": [
        "df.info()"
      ]
    },
    {
      "cell_type": "code",
      "execution_count": 62,
      "metadata": {
        "colab": {
          "base_uri": "https://localhost:8080/"
        },
        "id": "kPwZUqxjBKVL",
        "outputId": "6e7b626a-65e1-46b6-9c84-91b6b3f2315a"
      },
      "outputs": [
        {
          "data": {
            "text/plain": [
              "Airline            0\n",
              "Date_of_Journey    0\n",
              "Source             0\n",
              "Destination        0\n",
              "Route              1\n",
              "Dep_Time           0\n",
              "Arrival_Time       0\n",
              "Duration           0\n",
              "Total_Stops        1\n",
              "Additional_Info    0\n",
              "Price              0\n",
              "dtype: int64"
            ]
          },
          "execution_count": 62,
          "metadata": {},
          "output_type": "execute_result"
        }
      ],
      "source": [
        "df.isnull().sum()"
      ]
    },
    {
      "cell_type": "code",
      "execution_count": 64,
      "metadata": {
        "id": "Vvfw-sw_Bgp6"
      },
      "outputs": [],
      "source": [
        "df.dropna(axis=0,inplace=True)"
      ]
    },
    {
      "cell_type": "code",
      "execution_count": 65,
      "metadata": {
        "colab": {
          "base_uri": "https://localhost:8080/"
        },
        "id": "bVgpEkYGBva2",
        "outputId": "b851e639-929b-4ccf-ae0c-0fe10f314ffd"
      },
      "outputs": [
        {
          "data": {
            "text/plain": [
              "Airline            0\n",
              "Date_of_Journey    0\n",
              "Source             0\n",
              "Destination        0\n",
              "Route              0\n",
              "Dep_Time           0\n",
              "Arrival_Time       0\n",
              "Duration           0\n",
              "Total_Stops        0\n",
              "Additional_Info    0\n",
              "Price              0\n",
              "dtype: int64"
            ]
          },
          "execution_count": 65,
          "metadata": {},
          "output_type": "execute_result"
        }
      ],
      "source": [
        "df.isnull().sum()"
      ]
    },
    {
      "cell_type": "code",
      "execution_count": 66,
      "metadata": {
        "colab": {
          "base_uri": "https://localhost:8080/"
        },
        "id": "DaDvQ0HYByI7",
        "outputId": "5e828159-814f-4477-a882-056b6ce41137"
      },
      "outputs": [
        {
          "name": "stdout",
          "output_type": "stream",
          "text": [
            "<class 'pandas.core.frame.DataFrame'>\n",
            "Index: 10682 entries, 0 to 10682\n",
            "Data columns (total 11 columns):\n",
            " #   Column           Non-Null Count  Dtype \n",
            "---  ------           --------------  ----- \n",
            " 0   Airline          10682 non-null  object\n",
            " 1   Date_of_Journey  10682 non-null  object\n",
            " 2   Source           10682 non-null  object\n",
            " 3   Destination      10682 non-null  object\n",
            " 4   Route            10682 non-null  object\n",
            " 5   Dep_Time         10682 non-null  object\n",
            " 6   Arrival_Time     10682 non-null  object\n",
            " 7   Duration         10682 non-null  object\n",
            " 8   Total_Stops      10682 non-null  object\n",
            " 9   Additional_Info  10682 non-null  object\n",
            " 10  Price            10682 non-null  int64 \n",
            "dtypes: int64(1), object(10)\n",
            "memory usage: 1001.4+ KB\n"
          ]
        }
      ],
      "source": [
        "\n",
        "df.info()"
      ]
    },
    {
      "cell_type": "code",
      "execution_count": 67,
      "metadata": {
        "colab": {
          "base_uri": "https://localhost:8080/"
        },
        "id": "W7VGkxVhB4wP",
        "outputId": "35d23f56-cd5e-4a13-bb11-4453c6a5a3f7"
      },
      "outputs": [
        {
          "data": {
            "text/plain": [
              "Index(['airline', 'date_of_journey', 'source', 'destination', 'route',\n",
              "       'dep_time', 'arrival_time', 'duration', 'total_stops',\n",
              "       'additional_info', 'price'],\n",
              "      dtype='object')"
            ]
          },
          "execution_count": 67,
          "metadata": {},
          "output_type": "execute_result"
        }
      ],
      "source": [
        "df.columns=df.columns.str.lower()\n",
        "df.columns"
      ]
    },
    {
      "cell_type": "code",
      "execution_count": 68,
      "metadata": {
        "colab": {
          "base_uri": "https://localhost:8080/"
        },
        "id": "npdgGwaQCEly",
        "outputId": "f20bdb9b-9adf-4ee2-da54-8132745944d7"
      },
      "outputs": [
        {
          "data": {
            "text/plain": [
              "Index(['price'], dtype='object')"
            ]
          },
          "execution_count": 68,
          "metadata": {},
          "output_type": "execute_result"
        }
      ],
      "source": [
        "num_col=df.select_dtypes('number').columns\n",
        "num_col"
      ]
    },
    {
      "cell_type": "code",
      "execution_count": 69,
      "metadata": {
        "colab": {
          "base_uri": "https://localhost:8080/",
          "height": 423
        },
        "id": "yWqhM22NEcr9",
        "outputId": "0b09e538-f180-40b2-df77-b19da0bc89dc"
      },
      "outputs": [
        {
          "data": {
            "text/html": [
              "<div>\n",
              "<style scoped>\n",
              "    .dataframe tbody tr th:only-of-type {\n",
              "        vertical-align: middle;\n",
              "    }\n",
              "\n",
              "    .dataframe tbody tr th {\n",
              "        vertical-align: top;\n",
              "    }\n",
              "\n",
              "    .dataframe thead th {\n",
              "        text-align: right;\n",
              "    }\n",
              "</style>\n",
              "<table border=\"1\" class=\"dataframe\">\n",
              "  <thead>\n",
              "    <tr style=\"text-align: right;\">\n",
              "      <th></th>\n",
              "      <th>airline</th>\n",
              "      <th>source</th>\n",
              "      <th>destination</th>\n",
              "      <th>route</th>\n",
              "      <th>total_stops</th>\n",
              "      <th>price</th>\n",
              "    </tr>\n",
              "  </thead>\n",
              "  <tbody>\n",
              "    <tr>\n",
              "      <th>0</th>\n",
              "      <td>IndiGo</td>\n",
              "      <td>Banglore</td>\n",
              "      <td>New Delhi</td>\n",
              "      <td>BLR → DEL</td>\n",
              "      <td>non-stop</td>\n",
              "      <td>3897</td>\n",
              "    </tr>\n",
              "    <tr>\n",
              "      <th>1</th>\n",
              "      <td>Air India</td>\n",
              "      <td>Kolkata</td>\n",
              "      <td>Banglore</td>\n",
              "      <td>CCU → IXR → BBI → BLR</td>\n",
              "      <td>2 stops</td>\n",
              "      <td>7662</td>\n",
              "    </tr>\n",
              "    <tr>\n",
              "      <th>2</th>\n",
              "      <td>Jet Airways</td>\n",
              "      <td>Delhi</td>\n",
              "      <td>Cochin</td>\n",
              "      <td>DEL → LKO → BOM → COK</td>\n",
              "      <td>2 stops</td>\n",
              "      <td>13882</td>\n",
              "    </tr>\n",
              "    <tr>\n",
              "      <th>3</th>\n",
              "      <td>IndiGo</td>\n",
              "      <td>Kolkata</td>\n",
              "      <td>Banglore</td>\n",
              "      <td>CCU → NAG → BLR</td>\n",
              "      <td>1 stop</td>\n",
              "      <td>6218</td>\n",
              "    </tr>\n",
              "    <tr>\n",
              "      <th>4</th>\n",
              "      <td>IndiGo</td>\n",
              "      <td>Banglore</td>\n",
              "      <td>New Delhi</td>\n",
              "      <td>BLR → NAG → DEL</td>\n",
              "      <td>1 stop</td>\n",
              "      <td>13302</td>\n",
              "    </tr>\n",
              "    <tr>\n",
              "      <th>...</th>\n",
              "      <td>...</td>\n",
              "      <td>...</td>\n",
              "      <td>...</td>\n",
              "      <td>...</td>\n",
              "      <td>...</td>\n",
              "      <td>...</td>\n",
              "    </tr>\n",
              "    <tr>\n",
              "      <th>10678</th>\n",
              "      <td>Air Asia</td>\n",
              "      <td>Kolkata</td>\n",
              "      <td>Banglore</td>\n",
              "      <td>CCU → BLR</td>\n",
              "      <td>non-stop</td>\n",
              "      <td>4107</td>\n",
              "    </tr>\n",
              "    <tr>\n",
              "      <th>10679</th>\n",
              "      <td>Air India</td>\n",
              "      <td>Kolkata</td>\n",
              "      <td>Banglore</td>\n",
              "      <td>CCU → BLR</td>\n",
              "      <td>non-stop</td>\n",
              "      <td>4145</td>\n",
              "    </tr>\n",
              "    <tr>\n",
              "      <th>10680</th>\n",
              "      <td>Jet Airways</td>\n",
              "      <td>Banglore</td>\n",
              "      <td>Delhi</td>\n",
              "      <td>BLR → DEL</td>\n",
              "      <td>non-stop</td>\n",
              "      <td>7229</td>\n",
              "    </tr>\n",
              "    <tr>\n",
              "      <th>10681</th>\n",
              "      <td>Vistara</td>\n",
              "      <td>Banglore</td>\n",
              "      <td>New Delhi</td>\n",
              "      <td>BLR → DEL</td>\n",
              "      <td>non-stop</td>\n",
              "      <td>12648</td>\n",
              "    </tr>\n",
              "    <tr>\n",
              "      <th>10682</th>\n",
              "      <td>Air India</td>\n",
              "      <td>Delhi</td>\n",
              "      <td>Cochin</td>\n",
              "      <td>DEL → GOI → BOM → COK</td>\n",
              "      <td>2 stops</td>\n",
              "      <td>11753</td>\n",
              "    </tr>\n",
              "  </tbody>\n",
              "</table>\n",
              "<p>10682 rows × 6 columns</p>\n",
              "</div>"
            ],
            "text/plain": [
              "           airline    source destination                  route total_stops  \\\n",
              "0           IndiGo  Banglore   New Delhi              BLR → DEL    non-stop   \n",
              "1        Air India   Kolkata    Banglore  CCU → IXR → BBI → BLR     2 stops   \n",
              "2      Jet Airways     Delhi      Cochin  DEL → LKO → BOM → COK     2 stops   \n",
              "3           IndiGo   Kolkata    Banglore        CCU → NAG → BLR      1 stop   \n",
              "4           IndiGo  Banglore   New Delhi        BLR → NAG → DEL      1 stop   \n",
              "...            ...       ...         ...                    ...         ...   \n",
              "10678     Air Asia   Kolkata    Banglore              CCU → BLR    non-stop   \n",
              "10679    Air India   Kolkata    Banglore              CCU → BLR    non-stop   \n",
              "10680  Jet Airways  Banglore       Delhi              BLR → DEL    non-stop   \n",
              "10681      Vistara  Banglore   New Delhi              BLR → DEL    non-stop   \n",
              "10682    Air India     Delhi      Cochin  DEL → GOI → BOM → COK     2 stops   \n",
              "\n",
              "       price  \n",
              "0       3897  \n",
              "1       7662  \n",
              "2      13882  \n",
              "3       6218  \n",
              "4      13302  \n",
              "...      ...  \n",
              "10678   4107  \n",
              "10679   4145  \n",
              "10680   7229  \n",
              "10681  12648  \n",
              "10682  11753  \n",
              "\n",
              "[10682 rows x 6 columns]"
            ]
          },
          "execution_count": 69,
          "metadata": {},
          "output_type": "execute_result"
        }
      ],
      "source": [
        "df.drop(['duration','arrival_time','dep_time','date_of_journey','additional_info'], axis=1 ,inplace=True)\n",
        "df"
      ]
    },
    {
      "cell_type": "code",
      "execution_count": 70,
      "metadata": {
        "colab": {
          "base_uri": "https://localhost:8080/"
        },
        "id": "1E0QbeSGCNEk",
        "outputId": "03ca97a1-4269-48fd-fbca-29b3a6b5aa6b"
      },
      "outputs": [
        {
          "data": {
            "text/plain": [
              "Index(['airline', 'source', 'destination', 'route', 'total_stops'], dtype='object')"
            ]
          },
          "execution_count": 70,
          "metadata": {},
          "output_type": "execute_result"
        }
      ],
      "source": [
        "cat_col=df.select_dtypes('object').columns\n",
        "cat_col"
      ]
    },
    {
      "cell_type": "code",
      "execution_count": 71,
      "metadata": {
        "colab": {
          "base_uri": "https://localhost:8080/",
          "height": 495
        },
        "id": "FiuMN2bgCa1F",
        "outputId": "62486130-0e86-4923-885c-2d8c57c1446f"
      },
      "outputs": [
        {
          "data": {
            "text/html": [
              "<div>\n",
              "<style scoped>\n",
              "    .dataframe tbody tr th:only-of-type {\n",
              "        vertical-align: middle;\n",
              "    }\n",
              "\n",
              "    .dataframe tbody tr th {\n",
              "        vertical-align: top;\n",
              "    }\n",
              "\n",
              "    .dataframe thead th {\n",
              "        text-align: right;\n",
              "    }\n",
              "</style>\n",
              "<table border=\"1\" class=\"dataframe\">\n",
              "  <thead>\n",
              "    <tr style=\"text-align: right;\">\n",
              "      <th></th>\n",
              "      <th>price</th>\n",
              "      <th>airline_Air India</th>\n",
              "      <th>airline_GoAir</th>\n",
              "      <th>airline_IndiGo</th>\n",
              "      <th>airline_Jet Airways</th>\n",
              "      <th>airline_Jet Airways Business</th>\n",
              "      <th>airline_Multiple carriers</th>\n",
              "      <th>airline_Multiple carriers Premium economy</th>\n",
              "      <th>airline_SpiceJet</th>\n",
              "      <th>airline_Trujet</th>\n",
              "      <th>...</th>\n",
              "      <th>route_DEL → NAG → BOM → COK</th>\n",
              "      <th>route_DEL → PNQ → COK</th>\n",
              "      <th>route_DEL → RPR → NAG → BOM → COK</th>\n",
              "      <th>route_DEL → TRV → COK</th>\n",
              "      <th>route_DEL → UDR → BOM → COK</th>\n",
              "      <th>route_MAA → CCU</th>\n",
              "      <th>total_stops_2 stops</th>\n",
              "      <th>total_stops_3 stops</th>\n",
              "      <th>total_stops_4 stops</th>\n",
              "      <th>total_stops_non-stop</th>\n",
              "    </tr>\n",
              "  </thead>\n",
              "  <tbody>\n",
              "    <tr>\n",
              "      <th>0</th>\n",
              "      <td>3897</td>\n",
              "      <td>False</td>\n",
              "      <td>False</td>\n",
              "      <td>True</td>\n",
              "      <td>False</td>\n",
              "      <td>False</td>\n",
              "      <td>False</td>\n",
              "      <td>False</td>\n",
              "      <td>False</td>\n",
              "      <td>False</td>\n",
              "      <td>...</td>\n",
              "      <td>False</td>\n",
              "      <td>False</td>\n",
              "      <td>False</td>\n",
              "      <td>False</td>\n",
              "      <td>False</td>\n",
              "      <td>False</td>\n",
              "      <td>False</td>\n",
              "      <td>False</td>\n",
              "      <td>False</td>\n",
              "      <td>True</td>\n",
              "    </tr>\n",
              "    <tr>\n",
              "      <th>1</th>\n",
              "      <td>7662</td>\n",
              "      <td>True</td>\n",
              "      <td>False</td>\n",
              "      <td>False</td>\n",
              "      <td>False</td>\n",
              "      <td>False</td>\n",
              "      <td>False</td>\n",
              "      <td>False</td>\n",
              "      <td>False</td>\n",
              "      <td>False</td>\n",
              "      <td>...</td>\n",
              "      <td>False</td>\n",
              "      <td>False</td>\n",
              "      <td>False</td>\n",
              "      <td>False</td>\n",
              "      <td>False</td>\n",
              "      <td>False</td>\n",
              "      <td>True</td>\n",
              "      <td>False</td>\n",
              "      <td>False</td>\n",
              "      <td>False</td>\n",
              "    </tr>\n",
              "    <tr>\n",
              "      <th>2</th>\n",
              "      <td>13882</td>\n",
              "      <td>False</td>\n",
              "      <td>False</td>\n",
              "      <td>False</td>\n",
              "      <td>True</td>\n",
              "      <td>False</td>\n",
              "      <td>False</td>\n",
              "      <td>False</td>\n",
              "      <td>False</td>\n",
              "      <td>False</td>\n",
              "      <td>...</td>\n",
              "      <td>False</td>\n",
              "      <td>False</td>\n",
              "      <td>False</td>\n",
              "      <td>False</td>\n",
              "      <td>False</td>\n",
              "      <td>False</td>\n",
              "      <td>True</td>\n",
              "      <td>False</td>\n",
              "      <td>False</td>\n",
              "      <td>False</td>\n",
              "    </tr>\n",
              "    <tr>\n",
              "      <th>3</th>\n",
              "      <td>6218</td>\n",
              "      <td>False</td>\n",
              "      <td>False</td>\n",
              "      <td>True</td>\n",
              "      <td>False</td>\n",
              "      <td>False</td>\n",
              "      <td>False</td>\n",
              "      <td>False</td>\n",
              "      <td>False</td>\n",
              "      <td>False</td>\n",
              "      <td>...</td>\n",
              "      <td>False</td>\n",
              "      <td>False</td>\n",
              "      <td>False</td>\n",
              "      <td>False</td>\n",
              "      <td>False</td>\n",
              "      <td>False</td>\n",
              "      <td>False</td>\n",
              "      <td>False</td>\n",
              "      <td>False</td>\n",
              "      <td>False</td>\n",
              "    </tr>\n",
              "    <tr>\n",
              "      <th>4</th>\n",
              "      <td>13302</td>\n",
              "      <td>False</td>\n",
              "      <td>False</td>\n",
              "      <td>True</td>\n",
              "      <td>False</td>\n",
              "      <td>False</td>\n",
              "      <td>False</td>\n",
              "      <td>False</td>\n",
              "      <td>False</td>\n",
              "      <td>False</td>\n",
              "      <td>...</td>\n",
              "      <td>False</td>\n",
              "      <td>False</td>\n",
              "      <td>False</td>\n",
              "      <td>False</td>\n",
              "      <td>False</td>\n",
              "      <td>False</td>\n",
              "      <td>False</td>\n",
              "      <td>False</td>\n",
              "      <td>False</td>\n",
              "      <td>False</td>\n",
              "    </tr>\n",
              "    <tr>\n",
              "      <th>...</th>\n",
              "      <td>...</td>\n",
              "      <td>...</td>\n",
              "      <td>...</td>\n",
              "      <td>...</td>\n",
              "      <td>...</td>\n",
              "      <td>...</td>\n",
              "      <td>...</td>\n",
              "      <td>...</td>\n",
              "      <td>...</td>\n",
              "      <td>...</td>\n",
              "      <td>...</td>\n",
              "      <td>...</td>\n",
              "      <td>...</td>\n",
              "      <td>...</td>\n",
              "      <td>...</td>\n",
              "      <td>...</td>\n",
              "      <td>...</td>\n",
              "      <td>...</td>\n",
              "      <td>...</td>\n",
              "      <td>...</td>\n",
              "      <td>...</td>\n",
              "    </tr>\n",
              "    <tr>\n",
              "      <th>10678</th>\n",
              "      <td>4107</td>\n",
              "      <td>False</td>\n",
              "      <td>False</td>\n",
              "      <td>False</td>\n",
              "      <td>False</td>\n",
              "      <td>False</td>\n",
              "      <td>False</td>\n",
              "      <td>False</td>\n",
              "      <td>False</td>\n",
              "      <td>False</td>\n",
              "      <td>...</td>\n",
              "      <td>False</td>\n",
              "      <td>False</td>\n",
              "      <td>False</td>\n",
              "      <td>False</td>\n",
              "      <td>False</td>\n",
              "      <td>False</td>\n",
              "      <td>False</td>\n",
              "      <td>False</td>\n",
              "      <td>False</td>\n",
              "      <td>True</td>\n",
              "    </tr>\n",
              "    <tr>\n",
              "      <th>10679</th>\n",
              "      <td>4145</td>\n",
              "      <td>True</td>\n",
              "      <td>False</td>\n",
              "      <td>False</td>\n",
              "      <td>False</td>\n",
              "      <td>False</td>\n",
              "      <td>False</td>\n",
              "      <td>False</td>\n",
              "      <td>False</td>\n",
              "      <td>False</td>\n",
              "      <td>...</td>\n",
              "      <td>False</td>\n",
              "      <td>False</td>\n",
              "      <td>False</td>\n",
              "      <td>False</td>\n",
              "      <td>False</td>\n",
              "      <td>False</td>\n",
              "      <td>False</td>\n",
              "      <td>False</td>\n",
              "      <td>False</td>\n",
              "      <td>True</td>\n",
              "    </tr>\n",
              "    <tr>\n",
              "      <th>10680</th>\n",
              "      <td>7229</td>\n",
              "      <td>False</td>\n",
              "      <td>False</td>\n",
              "      <td>False</td>\n",
              "      <td>True</td>\n",
              "      <td>False</td>\n",
              "      <td>False</td>\n",
              "      <td>False</td>\n",
              "      <td>False</td>\n",
              "      <td>False</td>\n",
              "      <td>...</td>\n",
              "      <td>False</td>\n",
              "      <td>False</td>\n",
              "      <td>False</td>\n",
              "      <td>False</td>\n",
              "      <td>False</td>\n",
              "      <td>False</td>\n",
              "      <td>False</td>\n",
              "      <td>False</td>\n",
              "      <td>False</td>\n",
              "      <td>True</td>\n",
              "    </tr>\n",
              "    <tr>\n",
              "      <th>10681</th>\n",
              "      <td>12648</td>\n",
              "      <td>False</td>\n",
              "      <td>False</td>\n",
              "      <td>False</td>\n",
              "      <td>False</td>\n",
              "      <td>False</td>\n",
              "      <td>False</td>\n",
              "      <td>False</td>\n",
              "      <td>False</td>\n",
              "      <td>False</td>\n",
              "      <td>...</td>\n",
              "      <td>False</td>\n",
              "      <td>False</td>\n",
              "      <td>False</td>\n",
              "      <td>False</td>\n",
              "      <td>False</td>\n",
              "      <td>False</td>\n",
              "      <td>False</td>\n",
              "      <td>False</td>\n",
              "      <td>False</td>\n",
              "      <td>True</td>\n",
              "    </tr>\n",
              "    <tr>\n",
              "      <th>10682</th>\n",
              "      <td>11753</td>\n",
              "      <td>True</td>\n",
              "      <td>False</td>\n",
              "      <td>False</td>\n",
              "      <td>False</td>\n",
              "      <td>False</td>\n",
              "      <td>False</td>\n",
              "      <td>False</td>\n",
              "      <td>False</td>\n",
              "      <td>False</td>\n",
              "      <td>...</td>\n",
              "      <td>False</td>\n",
              "      <td>False</td>\n",
              "      <td>False</td>\n",
              "      <td>False</td>\n",
              "      <td>False</td>\n",
              "      <td>False</td>\n",
              "      <td>True</td>\n",
              "      <td>False</td>\n",
              "      <td>False</td>\n",
              "      <td>False</td>\n",
              "    </tr>\n",
              "  </tbody>\n",
              "</table>\n",
              "<p>10682 rows × 152 columns</p>\n",
              "</div>"
            ],
            "text/plain": [
              "       price  airline_Air India  airline_GoAir  airline_IndiGo  \\\n",
              "0       3897              False          False            True   \n",
              "1       7662               True          False           False   \n",
              "2      13882              False          False           False   \n",
              "3       6218              False          False            True   \n",
              "4      13302              False          False            True   \n",
              "...      ...                ...            ...             ...   \n",
              "10678   4107              False          False           False   \n",
              "10679   4145               True          False           False   \n",
              "10680   7229              False          False           False   \n",
              "10681  12648              False          False           False   \n",
              "10682  11753               True          False           False   \n",
              "\n",
              "       airline_Jet Airways  airline_Jet Airways Business  \\\n",
              "0                    False                         False   \n",
              "1                    False                         False   \n",
              "2                     True                         False   \n",
              "3                    False                         False   \n",
              "4                    False                         False   \n",
              "...                    ...                           ...   \n",
              "10678                False                         False   \n",
              "10679                False                         False   \n",
              "10680                 True                         False   \n",
              "10681                False                         False   \n",
              "10682                False                         False   \n",
              "\n",
              "       airline_Multiple carriers  airline_Multiple carriers Premium economy  \\\n",
              "0                          False                                      False   \n",
              "1                          False                                      False   \n",
              "2                          False                                      False   \n",
              "3                          False                                      False   \n",
              "4                          False                                      False   \n",
              "...                          ...                                        ...   \n",
              "10678                      False                                      False   \n",
              "10679                      False                                      False   \n",
              "10680                      False                                      False   \n",
              "10681                      False                                      False   \n",
              "10682                      False                                      False   \n",
              "\n",
              "       airline_SpiceJet  airline_Trujet  ...  route_DEL → NAG → BOM → COK  \\\n",
              "0                 False           False  ...                        False   \n",
              "1                 False           False  ...                        False   \n",
              "2                 False           False  ...                        False   \n",
              "3                 False           False  ...                        False   \n",
              "4                 False           False  ...                        False   \n",
              "...                 ...             ...  ...                          ...   \n",
              "10678             False           False  ...                        False   \n",
              "10679             False           False  ...                        False   \n",
              "10680             False           False  ...                        False   \n",
              "10681             False           False  ...                        False   \n",
              "10682             False           False  ...                        False   \n",
              "\n",
              "       route_DEL → PNQ → COK  route_DEL → RPR → NAG → BOM → COK  \\\n",
              "0                      False                              False   \n",
              "1                      False                              False   \n",
              "2                      False                              False   \n",
              "3                      False                              False   \n",
              "4                      False                              False   \n",
              "...                      ...                                ...   \n",
              "10678                  False                              False   \n",
              "10679                  False                              False   \n",
              "10680                  False                              False   \n",
              "10681                  False                              False   \n",
              "10682                  False                              False   \n",
              "\n",
              "       route_DEL → TRV → COK  route_DEL → UDR → BOM → COK  route_MAA → CCU  \\\n",
              "0                      False                        False            False   \n",
              "1                      False                        False            False   \n",
              "2                      False                        False            False   \n",
              "3                      False                        False            False   \n",
              "4                      False                        False            False   \n",
              "...                      ...                          ...              ...   \n",
              "10678                  False                        False            False   \n",
              "10679                  False                        False            False   \n",
              "10680                  False                        False            False   \n",
              "10681                  False                        False            False   \n",
              "10682                  False                        False            False   \n",
              "\n",
              "       total_stops_2 stops  total_stops_3 stops  total_stops_4 stops  \\\n",
              "0                    False                False                False   \n",
              "1                     True                False                False   \n",
              "2                     True                False                False   \n",
              "3                    False                False                False   \n",
              "4                    False                False                False   \n",
              "...                    ...                  ...                  ...   \n",
              "10678                False                False                False   \n",
              "10679                False                False                False   \n",
              "10680                False                False                False   \n",
              "10681                False                False                False   \n",
              "10682                 True                False                False   \n",
              "\n",
              "       total_stops_non-stop  \n",
              "0                      True  \n",
              "1                     False  \n",
              "2                     False  \n",
              "3                     False  \n",
              "4                     False  \n",
              "...                     ...  \n",
              "10678                  True  \n",
              "10679                  True  \n",
              "10680                  True  \n",
              "10681                  True  \n",
              "10682                 False  \n",
              "\n",
              "[10682 rows x 152 columns]"
            ]
          },
          "execution_count": 71,
          "metadata": {},
          "output_type": "execute_result"
        }
      ],
      "source": [
        "df=pd.get_dummies(df,cat_col,drop_first=True)\n",
        "df"
      ]
    },
    {
      "cell_type": "code",
      "execution_count": 72,
      "metadata": {
        "colab": {
          "base_uri": "https://localhost:8080/",
          "height": 599
        },
        "id": "azSi4chNCeVG",
        "outputId": "0473679c-d627-49b9-eb6f-f29bcebd2c2c"
      },
      "outputs": [
        {
          "data": {
            "text/html": [
              "<div>\n",
              "<style scoped>\n",
              "    .dataframe tbody tr th:only-of-type {\n",
              "        vertical-align: middle;\n",
              "    }\n",
              "\n",
              "    .dataframe tbody tr th {\n",
              "        vertical-align: top;\n",
              "    }\n",
              "\n",
              "    .dataframe thead th {\n",
              "        text-align: right;\n",
              "    }\n",
              "</style>\n",
              "<table border=\"1\" class=\"dataframe\">\n",
              "  <thead>\n",
              "    <tr style=\"text-align: right;\">\n",
              "      <th></th>\n",
              "      <th>price</th>\n",
              "      <th>airline_Air India</th>\n",
              "      <th>airline_GoAir</th>\n",
              "      <th>airline_IndiGo</th>\n",
              "      <th>airline_Jet Airways</th>\n",
              "      <th>airline_Jet Airways Business</th>\n",
              "      <th>airline_Multiple carriers</th>\n",
              "      <th>airline_Multiple carriers Premium economy</th>\n",
              "      <th>airline_SpiceJet</th>\n",
              "      <th>airline_Trujet</th>\n",
              "      <th>...</th>\n",
              "      <th>route_DEL → NAG → BOM → COK</th>\n",
              "      <th>route_DEL → PNQ → COK</th>\n",
              "      <th>route_DEL → RPR → NAG → BOM → COK</th>\n",
              "      <th>route_DEL → TRV → COK</th>\n",
              "      <th>route_DEL → UDR → BOM → COK</th>\n",
              "      <th>route_MAA → CCU</th>\n",
              "      <th>total_stops_2 stops</th>\n",
              "      <th>total_stops_3 stops</th>\n",
              "      <th>total_stops_4 stops</th>\n",
              "      <th>total_stops_non-stop</th>\n",
              "    </tr>\n",
              "  </thead>\n",
              "  <tbody>\n",
              "    <tr>\n",
              "      <th>price</th>\n",
              "      <td>1.000000</td>\n",
              "      <td>0.050432</td>\n",
              "      <td>-0.095151</td>\n",
              "      <td>-0.361070</td>\n",
              "      <td>0.416124</td>\n",
              "      <td>0.253303</td>\n",
              "      <td>0.139793</td>\n",
              "      <td>0.017650</td>\n",
              "      <td>-0.296565</td>\n",
              "      <td>-0.010381</td>\n",
              "      <td>...</td>\n",
              "      <td>0.057309</td>\n",
              "      <td>-0.033859</td>\n",
              "      <td>0.015621</td>\n",
              "      <td>-0.010512</td>\n",
              "      <td>0.042516</td>\n",
              "      <td>-0.179223</td>\n",
              "      <td>0.320508</td>\n",
              "      <td>0.056769</td>\n",
              "      <td>0.018043</td>\n",
              "      <td>-0.613801</td>\n",
              "    </tr>\n",
              "    <tr>\n",
              "      <th>airline_Air India</th>\n",
              "      <td>0.050432</td>\n",
              "      <td>1.000000</td>\n",
              "      <td>-0.060221</td>\n",
              "      <td>-0.215977</td>\n",
              "      <td>-0.332324</td>\n",
              "      <td>-0.010497</td>\n",
              "      <td>-0.157223</td>\n",
              "      <td>-0.015456</td>\n",
              "      <td>-0.127510</td>\n",
              "      <td>-0.004284</td>\n",
              "      <td>...</td>\n",
              "      <td>-0.005099</td>\n",
              "      <td>-0.027819</td>\n",
              "      <td>0.090168</td>\n",
              "      <td>0.074394</td>\n",
              "      <td>0.049628</td>\n",
              "      <td>-0.051068</td>\n",
              "      <td>0.366871</td>\n",
              "      <td>0.115659</td>\n",
              "      <td>0.021852</td>\n",
              "      <td>-0.083698</td>\n",
              "    </tr>\n",
              "    <tr>\n",
              "      <th>airline_GoAir</th>\n",
              "      <td>-0.095151</td>\n",
              "      <td>-0.060221</td>\n",
              "      <td>1.000000</td>\n",
              "      <td>-0.066339</td>\n",
              "      <td>-0.102076</td>\n",
              "      <td>-0.003224</td>\n",
              "      <td>-0.048292</td>\n",
              "      <td>-0.004747</td>\n",
              "      <td>-0.039166</td>\n",
              "      <td>-0.001316</td>\n",
              "      <td>...</td>\n",
              "      <td>-0.011125</td>\n",
              "      <td>-0.008545</td>\n",
              "      <td>-0.005430</td>\n",
              "      <td>-0.005268</td>\n",
              "      <td>-0.005588</td>\n",
              "      <td>-0.026156</td>\n",
              "      <td>-0.055396</td>\n",
              "      <td>-0.008846</td>\n",
              "      <td>-0.001316</td>\n",
              "      <td>0.042744</td>\n",
              "    </tr>\n",
              "    <tr>\n",
              "      <th>airline_IndiGo</th>\n",
              "      <td>-0.361070</td>\n",
              "      <td>-0.215977</td>\n",
              "      <td>-0.066339</td>\n",
              "      <td>1.000000</td>\n",
              "      <td>-0.366085</td>\n",
              "      <td>-0.011563</td>\n",
              "      <td>-0.173196</td>\n",
              "      <td>-0.017026</td>\n",
              "      <td>-0.140464</td>\n",
              "      <td>-0.004720</td>\n",
              "      <td>...</td>\n",
              "      <td>-0.039899</td>\n",
              "      <td>0.014912</td>\n",
              "      <td>-0.019474</td>\n",
              "      <td>-0.006605</td>\n",
              "      <td>-0.020040</td>\n",
              "      <td>0.141911</td>\n",
              "      <td>-0.185752</td>\n",
              "      <td>-0.031726</td>\n",
              "      <td>-0.004720</td>\n",
              "      <td>0.288753</td>\n",
              "    </tr>\n",
              "    <tr>\n",
              "      <th>airline_Jet Airways</th>\n",
              "      <td>0.416124</td>\n",
              "      <td>-0.332324</td>\n",
              "      <td>-0.102076</td>\n",
              "      <td>-0.366085</td>\n",
              "      <td>1.000000</td>\n",
              "      <td>-0.017793</td>\n",
              "      <td>-0.266497</td>\n",
              "      <td>-0.026199</td>\n",
              "      <td>-0.216132</td>\n",
              "      <td>-0.007262</td>\n",
              "      <td>...</td>\n",
              "      <td>0.084992</td>\n",
              "      <td>-0.047154</td>\n",
              "      <td>-0.029965</td>\n",
              "      <td>-0.029069</td>\n",
              "      <td>0.002444</td>\n",
              "      <td>-0.144341</td>\n",
              "      <td>0.079987</td>\n",
              "      <td>-0.048816</td>\n",
              "      <td>-0.007262</td>\n",
              "      <td>-0.263941</td>\n",
              "    </tr>\n",
              "    <tr>\n",
              "      <th>...</th>\n",
              "      <td>...</td>\n",
              "      <td>...</td>\n",
              "      <td>...</td>\n",
              "      <td>...</td>\n",
              "      <td>...</td>\n",
              "      <td>...</td>\n",
              "      <td>...</td>\n",
              "      <td>...</td>\n",
              "      <td>...</td>\n",
              "      <td>...</td>\n",
              "      <td>...</td>\n",
              "      <td>...</td>\n",
              "      <td>...</td>\n",
              "      <td>...</td>\n",
              "      <td>...</td>\n",
              "      <td>...</td>\n",
              "      <td>...</td>\n",
              "      <td>...</td>\n",
              "      <td>...</td>\n",
              "      <td>...</td>\n",
              "      <td>...</td>\n",
              "    </tr>\n",
              "    <tr>\n",
              "      <th>route_MAA → CCU</th>\n",
              "      <td>-0.179223</td>\n",
              "      <td>-0.051068</td>\n",
              "      <td>-0.026156</td>\n",
              "      <td>0.141911</td>\n",
              "      <td>-0.144341</td>\n",
              "      <td>-0.004559</td>\n",
              "      <td>-0.068288</td>\n",
              "      <td>-0.006713</td>\n",
              "      <td>0.187590</td>\n",
              "      <td>-0.001861</td>\n",
              "      <td>...</td>\n",
              "      <td>-0.015732</td>\n",
              "      <td>-0.012083</td>\n",
              "      <td>-0.007678</td>\n",
              "      <td>-0.007449</td>\n",
              "      <td>-0.007901</td>\n",
              "      <td>1.000000</td>\n",
              "      <td>-0.078334</td>\n",
              "      <td>-0.012509</td>\n",
              "      <td>-0.001861</td>\n",
              "      <td>0.276021</td>\n",
              "    </tr>\n",
              "    <tr>\n",
              "      <th>total_stops_2 stops</th>\n",
              "      <td>0.320508</td>\n",
              "      <td>0.366871</td>\n",
              "      <td>-0.055396</td>\n",
              "      <td>-0.185752</td>\n",
              "      <td>0.079987</td>\n",
              "      <td>0.012964</td>\n",
              "      <td>-0.108085</td>\n",
              "      <td>-0.014218</td>\n",
              "      <td>-0.117294</td>\n",
              "      <td>-0.003941</td>\n",
              "      <td>...</td>\n",
              "      <td>0.200828</td>\n",
              "      <td>-0.025591</td>\n",
              "      <td>-0.016262</td>\n",
              "      <td>-0.015776</td>\n",
              "      <td>0.100867</td>\n",
              "      <td>-0.078334</td>\n",
              "      <td>1.000000</td>\n",
              "      <td>-0.026493</td>\n",
              "      <td>-0.003941</td>\n",
              "      <td>-0.283796</td>\n",
              "    </tr>\n",
              "    <tr>\n",
              "      <th>total_stops_3 stops</th>\n",
              "      <td>0.056769</td>\n",
              "      <td>0.115659</td>\n",
              "      <td>-0.008846</td>\n",
              "      <td>-0.031726</td>\n",
              "      <td>-0.048816</td>\n",
              "      <td>-0.001542</td>\n",
              "      <td>0.013576</td>\n",
              "      <td>-0.002270</td>\n",
              "      <td>-0.018730</td>\n",
              "      <td>-0.000629</td>\n",
              "      <td>...</td>\n",
              "      <td>-0.005320</td>\n",
              "      <td>-0.004086</td>\n",
              "      <td>0.613829</td>\n",
              "      <td>-0.002519</td>\n",
              "      <td>-0.002672</td>\n",
              "      <td>-0.012509</td>\n",
              "      <td>-0.026493</td>\n",
              "      <td>1.000000</td>\n",
              "      <td>-0.000629</td>\n",
              "      <td>-0.045319</td>\n",
              "    </tr>\n",
              "    <tr>\n",
              "      <th>total_stops_4 stops</th>\n",
              "      <td>0.018043</td>\n",
              "      <td>0.021852</td>\n",
              "      <td>-0.001316</td>\n",
              "      <td>-0.004720</td>\n",
              "      <td>-0.007262</td>\n",
              "      <td>-0.000229</td>\n",
              "      <td>-0.003436</td>\n",
              "      <td>-0.000338</td>\n",
              "      <td>-0.002786</td>\n",
              "      <td>-0.000094</td>\n",
              "      <td>...</td>\n",
              "      <td>-0.000791</td>\n",
              "      <td>-0.000608</td>\n",
              "      <td>-0.000386</td>\n",
              "      <td>-0.000375</td>\n",
              "      <td>-0.000398</td>\n",
              "      <td>-0.001861</td>\n",
              "      <td>-0.003941</td>\n",
              "      <td>-0.000629</td>\n",
              "      <td>1.000000</td>\n",
              "      <td>-0.006742</td>\n",
              "    </tr>\n",
              "    <tr>\n",
              "      <th>total_stops_non-stop</th>\n",
              "      <td>-0.613801</td>\n",
              "      <td>-0.083698</td>\n",
              "      <td>0.042744</td>\n",
              "      <td>0.288753</td>\n",
              "      <td>-0.263941</td>\n",
              "      <td>-0.016518</td>\n",
              "      <td>-0.247403</td>\n",
              "      <td>-0.024321</td>\n",
              "      <td>0.302223</td>\n",
              "      <td>-0.006742</td>\n",
              "      <td>...</td>\n",
              "      <td>-0.056994</td>\n",
              "      <td>-0.043776</td>\n",
              "      <td>-0.027818</td>\n",
              "      <td>-0.026986</td>\n",
              "      <td>-0.028626</td>\n",
              "      <td>0.276021</td>\n",
              "      <td>-0.283796</td>\n",
              "      <td>-0.045319</td>\n",
              "      <td>-0.006742</td>\n",
              "      <td>1.000000</td>\n",
              "    </tr>\n",
              "  </tbody>\n",
              "</table>\n",
              "<p>152 rows × 152 columns</p>\n",
              "</div>"
            ],
            "text/plain": [
              "                         price  airline_Air India  airline_GoAir  \\\n",
              "price                 1.000000           0.050432      -0.095151   \n",
              "airline_Air India     0.050432           1.000000      -0.060221   \n",
              "airline_GoAir        -0.095151          -0.060221       1.000000   \n",
              "airline_IndiGo       -0.361070          -0.215977      -0.066339   \n",
              "airline_Jet Airways   0.416124          -0.332324      -0.102076   \n",
              "...                        ...                ...            ...   \n",
              "route_MAA → CCU      -0.179223          -0.051068      -0.026156   \n",
              "total_stops_2 stops   0.320508           0.366871      -0.055396   \n",
              "total_stops_3 stops   0.056769           0.115659      -0.008846   \n",
              "total_stops_4 stops   0.018043           0.021852      -0.001316   \n",
              "total_stops_non-stop -0.613801          -0.083698       0.042744   \n",
              "\n",
              "                      airline_IndiGo  airline_Jet Airways  \\\n",
              "price                      -0.361070             0.416124   \n",
              "airline_Air India          -0.215977            -0.332324   \n",
              "airline_GoAir              -0.066339            -0.102076   \n",
              "airline_IndiGo              1.000000            -0.366085   \n",
              "airline_Jet Airways        -0.366085             1.000000   \n",
              "...                              ...                  ...   \n",
              "route_MAA → CCU             0.141911            -0.144341   \n",
              "total_stops_2 stops        -0.185752             0.079987   \n",
              "total_stops_3 stops        -0.031726            -0.048816   \n",
              "total_stops_4 stops        -0.004720            -0.007262   \n",
              "total_stops_non-stop        0.288753            -0.263941   \n",
              "\n",
              "                      airline_Jet Airways Business  airline_Multiple carriers  \\\n",
              "price                                     0.253303                   0.139793   \n",
              "airline_Air India                        -0.010497                  -0.157223   \n",
              "airline_GoAir                            -0.003224                  -0.048292   \n",
              "airline_IndiGo                           -0.011563                  -0.173196   \n",
              "airline_Jet Airways                      -0.017793                  -0.266497   \n",
              "...                                            ...                        ...   \n",
              "route_MAA → CCU                          -0.004559                  -0.068288   \n",
              "total_stops_2 stops                       0.012964                  -0.108085   \n",
              "total_stops_3 stops                      -0.001542                   0.013576   \n",
              "total_stops_4 stops                      -0.000229                  -0.003436   \n",
              "total_stops_non-stop                     -0.016518                  -0.247403   \n",
              "\n",
              "                      airline_Multiple carriers Premium economy  \\\n",
              "price                                                  0.017650   \n",
              "airline_Air India                                     -0.015456   \n",
              "airline_GoAir                                         -0.004747   \n",
              "airline_IndiGo                                        -0.017026   \n",
              "airline_Jet Airways                                   -0.026199   \n",
              "...                                                         ...   \n",
              "route_MAA → CCU                                       -0.006713   \n",
              "total_stops_2 stops                                   -0.014218   \n",
              "total_stops_3 stops                                   -0.002270   \n",
              "total_stops_4 stops                                   -0.000338   \n",
              "total_stops_non-stop                                  -0.024321   \n",
              "\n",
              "                      airline_SpiceJet  airline_Trujet  ...  \\\n",
              "price                        -0.296565       -0.010381  ...   \n",
              "airline_Air India            -0.127510       -0.004284  ...   \n",
              "airline_GoAir                -0.039166       -0.001316  ...   \n",
              "airline_IndiGo               -0.140464       -0.004720  ...   \n",
              "airline_Jet Airways          -0.216132       -0.007262  ...   \n",
              "...                                ...             ...  ...   \n",
              "route_MAA → CCU               0.187590       -0.001861  ...   \n",
              "total_stops_2 stops          -0.117294       -0.003941  ...   \n",
              "total_stops_3 stops          -0.018730       -0.000629  ...   \n",
              "total_stops_4 stops          -0.002786       -0.000094  ...   \n",
              "total_stops_non-stop          0.302223       -0.006742  ...   \n",
              "\n",
              "                      route_DEL → NAG → BOM → COK  route_DEL → PNQ → COK  \\\n",
              "price                                    0.057309              -0.033859   \n",
              "airline_Air India                       -0.005099              -0.027819   \n",
              "airline_GoAir                           -0.011125              -0.008545   \n",
              "airline_IndiGo                          -0.039899               0.014912   \n",
              "airline_Jet Airways                      0.084992              -0.047154   \n",
              "...                                           ...                    ...   \n",
              "route_MAA → CCU                         -0.015732              -0.012083   \n",
              "total_stops_2 stops                      0.200828              -0.025591   \n",
              "total_stops_3 stops                     -0.005320              -0.004086   \n",
              "total_stops_4 stops                     -0.000791              -0.000608   \n",
              "total_stops_non-stop                    -0.056994              -0.043776   \n",
              "\n",
              "                      route_DEL → RPR → NAG → BOM → COK  \\\n",
              "price                                          0.015621   \n",
              "airline_Air India                              0.090168   \n",
              "airline_GoAir                                 -0.005430   \n",
              "airline_IndiGo                                -0.019474   \n",
              "airline_Jet Airways                           -0.029965   \n",
              "...                                                 ...   \n",
              "route_MAA → CCU                               -0.007678   \n",
              "total_stops_2 stops                           -0.016262   \n",
              "total_stops_3 stops                            0.613829   \n",
              "total_stops_4 stops                           -0.000386   \n",
              "total_stops_non-stop                          -0.027818   \n",
              "\n",
              "                      route_DEL → TRV → COK  route_DEL → UDR → BOM → COK  \\\n",
              "price                             -0.010512                     0.042516   \n",
              "airline_Air India                  0.074394                     0.049628   \n",
              "airline_GoAir                     -0.005268                    -0.005588   \n",
              "airline_IndiGo                    -0.006605                    -0.020040   \n",
              "airline_Jet Airways               -0.029069                     0.002444   \n",
              "...                                     ...                          ...   \n",
              "route_MAA → CCU                   -0.007449                    -0.007901   \n",
              "total_stops_2 stops               -0.015776                     0.100867   \n",
              "total_stops_3 stops               -0.002519                    -0.002672   \n",
              "total_stops_4 stops               -0.000375                    -0.000398   \n",
              "total_stops_non-stop              -0.026986                    -0.028626   \n",
              "\n",
              "                      route_MAA → CCU  total_stops_2 stops  \\\n",
              "price                       -0.179223             0.320508   \n",
              "airline_Air India           -0.051068             0.366871   \n",
              "airline_GoAir               -0.026156            -0.055396   \n",
              "airline_IndiGo               0.141911            -0.185752   \n",
              "airline_Jet Airways         -0.144341             0.079987   \n",
              "...                               ...                  ...   \n",
              "route_MAA → CCU              1.000000            -0.078334   \n",
              "total_stops_2 stops         -0.078334             1.000000   \n",
              "total_stops_3 stops         -0.012509            -0.026493   \n",
              "total_stops_4 stops         -0.001861            -0.003941   \n",
              "total_stops_non-stop         0.276021            -0.283796   \n",
              "\n",
              "                      total_stops_3 stops  total_stops_4 stops  \\\n",
              "price                            0.056769             0.018043   \n",
              "airline_Air India                0.115659             0.021852   \n",
              "airline_GoAir                   -0.008846            -0.001316   \n",
              "airline_IndiGo                  -0.031726            -0.004720   \n",
              "airline_Jet Airways             -0.048816            -0.007262   \n",
              "...                                   ...                  ...   \n",
              "route_MAA → CCU                 -0.012509            -0.001861   \n",
              "total_stops_2 stops             -0.026493            -0.003941   \n",
              "total_stops_3 stops              1.000000            -0.000629   \n",
              "total_stops_4 stops             -0.000629             1.000000   \n",
              "total_stops_non-stop            -0.045319            -0.006742   \n",
              "\n",
              "                      total_stops_non-stop  \n",
              "price                            -0.613801  \n",
              "airline_Air India                -0.083698  \n",
              "airline_GoAir                     0.042744  \n",
              "airline_IndiGo                    0.288753  \n",
              "airline_Jet Airways              -0.263941  \n",
              "...                                    ...  \n",
              "route_MAA → CCU                   0.276021  \n",
              "total_stops_2 stops              -0.283796  \n",
              "total_stops_3 stops              -0.045319  \n",
              "total_stops_4 stops              -0.006742  \n",
              "total_stops_non-stop              1.000000  \n",
              "\n",
              "[152 rows x 152 columns]"
            ]
          },
          "execution_count": 72,
          "metadata": {},
          "output_type": "execute_result"
        }
      ],
      "source": [
        "df.corr()"
      ]
    },
    {
      "cell_type": "code",
      "execution_count": 73,
      "metadata": {
        "id": "6n4ktl_fEy1_"
      },
      "outputs": [],
      "source": [
        "x=df.drop('price',axis=1)\n",
        "y=df['price']"
      ]
    },
    {
      "cell_type": "code",
      "execution_count": 74,
      "metadata": {
        "id": "FhCxCKeJFFwh"
      },
      "outputs": [],
      "source": [
        "x_train,x_test,y_train,y_test=train_test_split(x,y,test_size=0.2)\n"
      ]
    },
    {
      "cell_type": "code",
      "execution_count": 75,
      "metadata": {
        "id": "ac4QYc_4FHFO"
      },
      "outputs": [],
      "source": [
        "scaler=StandardScaler()\n",
        "x_train_scaled=scaler.fit_transform(x_train)\n",
        "x_test_scaled=scaler.transform(x_test)"
      ]
    },
    {
      "cell_type": "code",
      "execution_count": 76,
      "metadata": {
        "id": "U5n9aNP9FIYt"
      },
      "outputs": [],
      "source": [
        "models={\n",
        "    'LR':LinearRegression(),\n",
        "    'KNN':KNeighborsRegressor(n_neighbors=7),\n",
        "    'SVR':SVR()\n",
        "}"
      ]
    },
    {
      "cell_type": "code",
      "execution_count": 77,
      "metadata": {
        "colab": {
          "base_uri": "https://localhost:8080/"
        },
        "id": "pwEt6wBUFLf2",
        "outputId": "652fc58b-bc6e-41e4-e99a-781cecd206ba"
      },
      "outputs": [
        {
          "name": "stdout",
          "output_type": "stream",
          "text": [
            "using: LR\n",
            "train accuracy:  0.6484038217274322\n",
            "test accuracy:  -6.269796725692934e+21\n",
            "--------------------\n",
            "using: KNN\n",
            "train accuracy:  0.5555689208340756\n",
            "test accuracy:  0.5892967136690223\n",
            "--------------------\n",
            "using: SVR\n",
            "train accuracy:  0.025443963653853374\n",
            "test accuracy:  0.02516937481592485\n",
            "--------------------\n"
          ]
        }
      ],
      "source": [
        "for name,model in models.items():\n",
        "    print('using:',name)\n",
        "    model.fit(x_train_scaled,y_train)\n",
        "    print('train accuracy: ',model.score(x_train_scaled,y_train))\n",
        "    print('test accuracy: ',model.score(x_test_scaled,y_test))\n",
        "    print('-'*20)"
      ]
    },
    {
      "cell_type": "code",
      "execution_count": 78,
      "metadata": {
        "colab": {
          "base_uri": "https://localhost:8080/"
        },
        "id": "aFyD4IKfF2sE",
        "outputId": "fea67236-e91a-44cc-e5a5-6729b056cf97"
      },
      "outputs": [
        {
          "data": {
            "text/plain": [
              "['airline_Air India',\n",
              " 'airline_GoAir',\n",
              " 'airline_IndiGo',\n",
              " 'airline_Jet Airways',\n",
              " 'airline_Jet Airways Business',\n",
              " 'airline_Multiple carriers',\n",
              " 'airline_Multiple carriers Premium economy',\n",
              " 'airline_SpiceJet',\n",
              " 'airline_Trujet',\n",
              " 'airline_Vistara',\n",
              " 'airline_Vistara Premium economy',\n",
              " 'source_Chennai',\n",
              " 'source_Delhi',\n",
              " 'source_Kolkata',\n",
              " 'source_Mumbai',\n",
              " 'destination_Cochin',\n",
              " 'destination_Delhi',\n",
              " 'destination_Hyderabad',\n",
              " 'destination_Kolkata',\n",
              " 'destination_New Delhi',\n",
              " 'route_BLR → BBI → DEL',\n",
              " 'route_BLR → BDQ → DEL',\n",
              " 'route_BLR → BOM → AMD → DEL',\n",
              " 'route_BLR → BOM → BHO → DEL',\n",
              " 'route_BLR → BOM → DEL',\n",
              " 'route_BLR → BOM → IDR → DEL',\n",
              " 'route_BLR → BOM → IDR → GWL → DEL',\n",
              " 'route_BLR → BOM → IXC → DEL',\n",
              " 'route_BLR → BOM → JDH → DEL',\n",
              " 'route_BLR → BOM → NAG → DEL',\n",
              " 'route_BLR → BOM → UDR → DEL',\n",
              " 'route_BLR → CCU → BBI → DEL',\n",
              " 'route_BLR → CCU → BBI → HYD → DEL',\n",
              " 'route_BLR → CCU → BBI → HYD → VGA → DEL',\n",
              " 'route_BLR → CCU → DEL',\n",
              " 'route_BLR → CCU → GAU → DEL',\n",
              " 'route_BLR → COK → DEL',\n",
              " 'route_BLR → DEL',\n",
              " 'route_BLR → GAU → DEL',\n",
              " 'route_BLR → GOI → DEL',\n",
              " 'route_BLR → HBX → BOM → AMD → DEL',\n",
              " 'route_BLR → HBX → BOM → BHO → DEL',\n",
              " 'route_BLR → HBX → BOM → NAG → DEL',\n",
              " 'route_BLR → HYD → DEL',\n",
              " 'route_BLR → HYD → VGA → DEL',\n",
              " 'route_BLR → IDR → DEL',\n",
              " 'route_BLR → LKO → DEL',\n",
              " 'route_BLR → MAA → DEL',\n",
              " 'route_BLR → NAG → DEL',\n",
              " 'route_BLR → PNQ → DEL',\n",
              " 'route_BLR → STV → DEL',\n",
              " 'route_BLR → TRV → COK → DEL',\n",
              " 'route_BLR → VGA → DEL',\n",
              " 'route_BLR → VGA → HYD → DEL',\n",
              " 'route_BLR → VGA → VTZ → DEL',\n",
              " 'route_BOM → AMD → ISK → HYD',\n",
              " 'route_BOM → BBI → HYD',\n",
              " 'route_BOM → BDQ → DEL → HYD',\n",
              " 'route_BOM → BHO → DEL → HYD',\n",
              " 'route_BOM → BLR → CCU → BBI → HYD',\n",
              " 'route_BOM → BLR → HYD',\n",
              " 'route_BOM → CCU → HYD',\n",
              " 'route_BOM → COK → MAA → HYD',\n",
              " 'route_BOM → DED → DEL → HYD',\n",
              " 'route_BOM → DEL → HYD',\n",
              " 'route_BOM → GOI → HYD',\n",
              " 'route_BOM → GOI → PNQ → HYD',\n",
              " 'route_BOM → HYD',\n",
              " 'route_BOM → IDR → DEL → HYD',\n",
              " 'route_BOM → JAI → DEL → HYD',\n",
              " 'route_BOM → JDH → DEL → HYD',\n",
              " 'route_BOM → JDH → JAI → DEL → HYD',\n",
              " 'route_BOM → JLR → HYD',\n",
              " 'route_BOM → MAA → HYD',\n",
              " 'route_BOM → NDC → HYD',\n",
              " 'route_BOM → RPR → VTZ → HYD',\n",
              " 'route_BOM → UDR → DEL → HYD',\n",
              " 'route_BOM → VNS → DEL → HYD',\n",
              " 'route_CCU → AMD → BLR',\n",
              " 'route_CCU → BBI → BLR',\n",
              " 'route_CCU → BBI → BOM → BLR',\n",
              " 'route_CCU → BBI → HYD → BLR',\n",
              " 'route_CCU → BBI → IXR → DEL → BLR',\n",
              " 'route_CCU → BLR',\n",
              " 'route_CCU → BOM → AMD → BLR',\n",
              " 'route_CCU → BOM → BLR',\n",
              " 'route_CCU → BOM → COK → BLR',\n",
              " 'route_CCU → BOM → GOI → BLR',\n",
              " 'route_CCU → BOM → HBX → BLR',\n",
              " 'route_CCU → BOM → PNQ → BLR',\n",
              " 'route_CCU → BOM → TRV → BLR',\n",
              " 'route_CCU → DEL → AMD → BLR',\n",
              " 'route_CCU → DEL → BLR',\n",
              " 'route_CCU → DEL → COK → BLR',\n",
              " 'route_CCU → DEL → COK → TRV → BLR',\n",
              " 'route_CCU → DEL → VGA → BLR',\n",
              " 'route_CCU → GAU → BLR',\n",
              " 'route_CCU → GAU → DEL → BLR',\n",
              " 'route_CCU → GAU → IMF → DEL → BLR',\n",
              " 'route_CCU → HYD → BLR',\n",
              " 'route_CCU → IXA → BLR',\n",
              " 'route_CCU → IXB → BLR',\n",
              " 'route_CCU → IXB → DEL → BLR',\n",
              " 'route_CCU → IXR → BBI → BLR',\n",
              " 'route_CCU → IXR → DEL → BLR',\n",
              " 'route_CCU → IXZ → MAA → BLR',\n",
              " 'route_CCU → JAI → BOM → BLR',\n",
              " 'route_CCU → JAI → DEL → BLR',\n",
              " 'route_CCU → KNU → BLR',\n",
              " 'route_CCU → MAA → BLR',\n",
              " 'route_CCU → NAG → BLR',\n",
              " 'route_CCU → PAT → BLR',\n",
              " 'route_CCU → PNQ → BLR',\n",
              " 'route_CCU → RPR → HYD → BLR',\n",
              " 'route_CCU → VNS → DEL → BLR',\n",
              " 'route_CCU → VTZ → BLR',\n",
              " 'route_DEL → AMD → BOM → COK',\n",
              " 'route_DEL → AMD → COK',\n",
              " 'route_DEL → ATQ → BOM → COK',\n",
              " 'route_DEL → BBI → COK',\n",
              " 'route_DEL → BDQ → BOM → COK',\n",
              " 'route_DEL → BHO → BOM → COK',\n",
              " 'route_DEL → BLR → COK',\n",
              " 'route_DEL → BOM → COK',\n",
              " 'route_DEL → CCU → BOM → COK',\n",
              " 'route_DEL → COK',\n",
              " 'route_DEL → DED → BOM → COK',\n",
              " 'route_DEL → GOI → BOM → COK',\n",
              " 'route_DEL → GWL → IDR → BOM → COK',\n",
              " 'route_DEL → HYD → BOM → COK',\n",
              " 'route_DEL → HYD → COK',\n",
              " 'route_DEL → HYD → MAA → COK',\n",
              " 'route_DEL → IDR → BOM → COK',\n",
              " 'route_DEL → IXC → BOM → COK',\n",
              " 'route_DEL → IXU → BOM → COK',\n",
              " 'route_DEL → JAI → BOM → COK',\n",
              " 'route_DEL → JDH → BOM → COK',\n",
              " 'route_DEL → LKO → BOM → COK',\n",
              " 'route_DEL → LKO → COK',\n",
              " 'route_DEL → MAA → BOM → COK',\n",
              " 'route_DEL → MAA → COK',\n",
              " 'route_DEL → NAG → BOM → COK',\n",
              " 'route_DEL → PNQ → COK',\n",
              " 'route_DEL → RPR → NAG → BOM → COK',\n",
              " 'route_DEL → TRV → COK',\n",
              " 'route_DEL → UDR → BOM → COK',\n",
              " 'route_MAA → CCU',\n",
              " 'total_stops_2 stops',\n",
              " 'total_stops_3 stops',\n",
              " 'total_stops_4 stops',\n",
              " 'total_stops_non-stop']"
            ]
          },
          "execution_count": 78,
          "metadata": {},
          "output_type": "execute_result"
        }
      ],
      "source": [
        "features=x.columns.to_list()\n",
        "features"
      ]
    },
    {
      "cell_type": "code",
      "execution_count": 79,
      "metadata": {
        "id": "r5BTL2enFOPb"
      },
      "outputs": [],
      "source": [
        "import joblib"
      ]
    },
    {
      "cell_type": "code",
      "execution_count": 80,
      "metadata": {
        "colab": {
          "base_uri": "https://localhost:8080/"
        },
        "id": "HnF3jxW8FmRM",
        "outputId": "91069ae9-59b0-4034-fcd4-587e0fc9dd76"
      },
      "outputs": [
        {
          "data": {
            "text/plain": [
              "['Air_features.h5']"
            ]
          },
          "execution_count": 80,
          "metadata": {},
          "output_type": "execute_result"
        }
      ],
      "source": [
        "joblib.dump(model,'Air_model.h5')\n",
        "joblib.dump(scaler,'Air_scaler.h5')\n",
        "joblib.dump(features,'Air_features.h5')"
      ]
    }
  ],
  "metadata": {
    "colab": {
      "provenance": []
    },
    "kernelspec": {
      "display_name": "Python 3",
      "name": "python3"
    },
    "language_info": {
      "codemirror_mode": {
        "name": "ipython",
        "version": 3
      },
      "file_extension": ".py",
      "mimetype": "text/x-python",
      "name": "python",
      "nbconvert_exporter": "python",
      "pygments_lexer": "ipython3",
      "version": "3.11.3"
    }
  },
  "nbformat": 4,
  "nbformat_minor": 0
}
